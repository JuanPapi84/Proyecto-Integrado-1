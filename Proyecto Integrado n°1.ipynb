{
 "cells": [
  {
   "cell_type": "markdown",
   "metadata": {},
   "source": [
    " # Tienda Online Ice\n"
   ]
  },
  {
   "cell_type": "markdown",
   "metadata": {},
   "source": [
    "La siguiente tienda quiere saber los proyectos de juegos del siguiente año para la campaña publicitaria, vamos analizar las cinco plataformas principales, describiendo las variaciones en sus cuotas de mercado de una región a otra, los cinco géneros principales y explica la diferencia, por ultimo ver si las clasificaciones de ESRB afectan a las ventas en regiones individuales.\n",
    "\n",
    "Tambien vamos a poner en prueba las siguientes hipotesis:\n",
    "* Las calificaciones promedio de los usuarios para las plataformas Xbox One y PC son las mismas.\n",
    "* Las calificaciones promedio de los usuarios para los géneros de Acción y Deportes son las mismas.\n"
   ]
  },
  {
   "cell_type": "markdown",
   "metadata": {},
   "source": [
    "## Descripción de datos\n",
    "* `Name` (Nombre)\n",
    "* `Platform` (Plataforma)\n",
    "* `Year_of_Release` (Año de lanzamiento)\n",
    "* `Genre` (Género)\n",
    "* `NA_sales` (ventas en Norteamérica en millones de dólares estadounidenses)\n",
    "* `EU_sales` (ventas en Europa en millones de dólares estadounidenses)\n",
    "* `JP_sales` (ventas en Japón en millones de dólares estadounidenses)\n",
    "* `Other_sales` (ventas en otros países en millones de dólares estadounidenses)\n",
    "* `Critic_Score` (máximo de 100)\n",
    "* `User_Score` (máximo de 10)\n",
    "* `Clasificación` (ESRB)"
   ]
  },
  {
   "cell_type": "markdown",
   "metadata": {},
   "source": [
    "## Iniciación"
   ]
  },
  {
   "cell_type": "markdown",
   "metadata": {},
   "source": [
    "Carga de las librerias"
   ]
  },
  {
   "cell_type": "code",
   "execution_count": 1,
   "metadata": {},
   "outputs": [],
   "source": [
    "import pandas as pd\n",
    "import matplotlib.pyplot as plt\n",
    "import numpy as np\n",
    "import seaborn as sns\n",
    "from scipy import stats as st\n",
    "from scipy.stats import ttest_ind\n",
    "from scipy.stats import levene"
   ]
  },
  {
   "cell_type": "markdown",
   "metadata": {},
   "source": [
    "Carga de los datos"
   ]
  },
  {
   "cell_type": "code",
   "execution_count": 2,
   "metadata": {},
   "outputs": [],
   "source": [
    "df = pd.read_csv('/datasets/games.csv')"
   ]
  },
  {
   "cell_type": "markdown",
   "metadata": {},
   "source": [
    "## Exploración de los datos"
   ]
  },
  {
   "cell_type": "markdown",
   "metadata": {},
   "source": [
    "Veamos los datos del DataFrame y sus datos"
   ]
  },
  {
   "cell_type": "code",
   "execution_count": 3,
   "metadata": {
    "scrolled": false
   },
   "outputs": [
    {
     "data": {
      "text/html": [
       "<div>\n",
       "<style scoped>\n",
       "    .dataframe tbody tr th:only-of-type {\n",
       "        vertical-align: middle;\n",
       "    }\n",
       "\n",
       "    .dataframe tbody tr th {\n",
       "        vertical-align: top;\n",
       "    }\n",
       "\n",
       "    .dataframe thead th {\n",
       "        text-align: right;\n",
       "    }\n",
       "</style>\n",
       "<table border=\"1\" class=\"dataframe\">\n",
       "  <thead>\n",
       "    <tr style=\"text-align: right;\">\n",
       "      <th></th>\n",
       "      <th>Name</th>\n",
       "      <th>Platform</th>\n",
       "      <th>Year_of_Release</th>\n",
       "      <th>Genre</th>\n",
       "      <th>NA_sales</th>\n",
       "      <th>EU_sales</th>\n",
       "      <th>JP_sales</th>\n",
       "      <th>Other_sales</th>\n",
       "      <th>Critic_Score</th>\n",
       "      <th>User_Score</th>\n",
       "      <th>Rating</th>\n",
       "    </tr>\n",
       "  </thead>\n",
       "  <tbody>\n",
       "    <tr>\n",
       "      <th>0</th>\n",
       "      <td>Wii Sports</td>\n",
       "      <td>Wii</td>\n",
       "      <td>2006.0</td>\n",
       "      <td>Sports</td>\n",
       "      <td>41.36</td>\n",
       "      <td>28.96</td>\n",
       "      <td>3.77</td>\n",
       "      <td>8.45</td>\n",
       "      <td>76.0</td>\n",
       "      <td>8</td>\n",
       "      <td>E</td>\n",
       "    </tr>\n",
       "    <tr>\n",
       "      <th>1</th>\n",
       "      <td>Super Mario Bros.</td>\n",
       "      <td>NES</td>\n",
       "      <td>1985.0</td>\n",
       "      <td>Platform</td>\n",
       "      <td>29.08</td>\n",
       "      <td>3.58</td>\n",
       "      <td>6.81</td>\n",
       "      <td>0.77</td>\n",
       "      <td>NaN</td>\n",
       "      <td>NaN</td>\n",
       "      <td>NaN</td>\n",
       "    </tr>\n",
       "    <tr>\n",
       "      <th>2</th>\n",
       "      <td>Mario Kart Wii</td>\n",
       "      <td>Wii</td>\n",
       "      <td>2008.0</td>\n",
       "      <td>Racing</td>\n",
       "      <td>15.68</td>\n",
       "      <td>12.76</td>\n",
       "      <td>3.79</td>\n",
       "      <td>3.29</td>\n",
       "      <td>82.0</td>\n",
       "      <td>8.3</td>\n",
       "      <td>E</td>\n",
       "    </tr>\n",
       "    <tr>\n",
       "      <th>3</th>\n",
       "      <td>Wii Sports Resort</td>\n",
       "      <td>Wii</td>\n",
       "      <td>2009.0</td>\n",
       "      <td>Sports</td>\n",
       "      <td>15.61</td>\n",
       "      <td>10.93</td>\n",
       "      <td>3.28</td>\n",
       "      <td>2.95</td>\n",
       "      <td>80.0</td>\n",
       "      <td>8</td>\n",
       "      <td>E</td>\n",
       "    </tr>\n",
       "    <tr>\n",
       "      <th>4</th>\n",
       "      <td>Pokemon Red/Pokemon Blue</td>\n",
       "      <td>GB</td>\n",
       "      <td>1996.0</td>\n",
       "      <td>Role-Playing</td>\n",
       "      <td>11.27</td>\n",
       "      <td>8.89</td>\n",
       "      <td>10.22</td>\n",
       "      <td>1.00</td>\n",
       "      <td>NaN</td>\n",
       "      <td>NaN</td>\n",
       "      <td>NaN</td>\n",
       "    </tr>\n",
       "    <tr>\n",
       "      <th>5</th>\n",
       "      <td>Tetris</td>\n",
       "      <td>GB</td>\n",
       "      <td>1989.0</td>\n",
       "      <td>Puzzle</td>\n",
       "      <td>23.20</td>\n",
       "      <td>2.26</td>\n",
       "      <td>4.22</td>\n",
       "      <td>0.58</td>\n",
       "      <td>NaN</td>\n",
       "      <td>NaN</td>\n",
       "      <td>NaN</td>\n",
       "    </tr>\n",
       "    <tr>\n",
       "      <th>6</th>\n",
       "      <td>New Super Mario Bros.</td>\n",
       "      <td>DS</td>\n",
       "      <td>2006.0</td>\n",
       "      <td>Platform</td>\n",
       "      <td>11.28</td>\n",
       "      <td>9.14</td>\n",
       "      <td>6.50</td>\n",
       "      <td>2.88</td>\n",
       "      <td>89.0</td>\n",
       "      <td>8.5</td>\n",
       "      <td>E</td>\n",
       "    </tr>\n",
       "    <tr>\n",
       "      <th>7</th>\n",
       "      <td>Wii Play</td>\n",
       "      <td>Wii</td>\n",
       "      <td>2006.0</td>\n",
       "      <td>Misc</td>\n",
       "      <td>13.96</td>\n",
       "      <td>9.18</td>\n",
       "      <td>2.93</td>\n",
       "      <td>2.84</td>\n",
       "      <td>58.0</td>\n",
       "      <td>6.6</td>\n",
       "      <td>E</td>\n",
       "    </tr>\n",
       "    <tr>\n",
       "      <th>8</th>\n",
       "      <td>New Super Mario Bros. Wii</td>\n",
       "      <td>Wii</td>\n",
       "      <td>2009.0</td>\n",
       "      <td>Platform</td>\n",
       "      <td>14.44</td>\n",
       "      <td>6.94</td>\n",
       "      <td>4.70</td>\n",
       "      <td>2.24</td>\n",
       "      <td>87.0</td>\n",
       "      <td>8.4</td>\n",
       "      <td>E</td>\n",
       "    </tr>\n",
       "    <tr>\n",
       "      <th>9</th>\n",
       "      <td>Duck Hunt</td>\n",
       "      <td>NES</td>\n",
       "      <td>1984.0</td>\n",
       "      <td>Shooter</td>\n",
       "      <td>26.93</td>\n",
       "      <td>0.63</td>\n",
       "      <td>0.28</td>\n",
       "      <td>0.47</td>\n",
       "      <td>NaN</td>\n",
       "      <td>NaN</td>\n",
       "      <td>NaN</td>\n",
       "    </tr>\n",
       "  </tbody>\n",
       "</table>\n",
       "</div>"
      ],
      "text/plain": [
       "                        Name Platform  Year_of_Release         Genre  \\\n",
       "0                 Wii Sports      Wii           2006.0        Sports   \n",
       "1          Super Mario Bros.      NES           1985.0      Platform   \n",
       "2             Mario Kart Wii      Wii           2008.0        Racing   \n",
       "3          Wii Sports Resort      Wii           2009.0        Sports   \n",
       "4   Pokemon Red/Pokemon Blue       GB           1996.0  Role-Playing   \n",
       "5                     Tetris       GB           1989.0        Puzzle   \n",
       "6      New Super Mario Bros.       DS           2006.0      Platform   \n",
       "7                   Wii Play      Wii           2006.0          Misc   \n",
       "8  New Super Mario Bros. Wii      Wii           2009.0      Platform   \n",
       "9                  Duck Hunt      NES           1984.0       Shooter   \n",
       "\n",
       "   NA_sales  EU_sales  JP_sales  Other_sales  Critic_Score User_Score Rating  \n",
       "0     41.36     28.96      3.77         8.45          76.0          8      E  \n",
       "1     29.08      3.58      6.81         0.77           NaN        NaN    NaN  \n",
       "2     15.68     12.76      3.79         3.29          82.0        8.3      E  \n",
       "3     15.61     10.93      3.28         2.95          80.0          8      E  \n",
       "4     11.27      8.89     10.22         1.00           NaN        NaN    NaN  \n",
       "5     23.20      2.26      4.22         0.58           NaN        NaN    NaN  \n",
       "6     11.28      9.14      6.50         2.88          89.0        8.5      E  \n",
       "7     13.96      9.18      2.93         2.84          58.0        6.6      E  \n",
       "8     14.44      6.94      4.70         2.24          87.0        8.4      E  \n",
       "9     26.93      0.63      0.28         0.47           NaN        NaN    NaN  "
      ]
     },
     "execution_count": 3,
     "metadata": {},
     "output_type": "execute_result"
    }
   ],
   "source": [
    "df.head(10)"
   ]
  },
  {
   "cell_type": "markdown",
   "metadata": {},
   "source": [
    "Vamos a corroborar que esten todos los type de los datos correctos"
   ]
  },
  {
   "cell_type": "code",
   "execution_count": 4,
   "metadata": {},
   "outputs": [
    {
     "name": "stdout",
     "output_type": "stream",
     "text": [
      "<class 'pandas.core.frame.DataFrame'>\n",
      "RangeIndex: 16715 entries, 0 to 16714\n",
      "Data columns (total 11 columns):\n",
      " #   Column           Non-Null Count  Dtype  \n",
      "---  ------           --------------  -----  \n",
      " 0   Name             16713 non-null  object \n",
      " 1   Platform         16715 non-null  object \n",
      " 2   Year_of_Release  16446 non-null  float64\n",
      " 3   Genre            16713 non-null  object \n",
      " 4   NA_sales         16715 non-null  float64\n",
      " 5   EU_sales         16715 non-null  float64\n",
      " 6   JP_sales         16715 non-null  float64\n",
      " 7   Other_sales      16715 non-null  float64\n",
      " 8   Critic_Score     8137 non-null   float64\n",
      " 9   User_Score       10014 non-null  object \n",
      " 10  Rating           9949 non-null   object \n",
      "dtypes: float64(6), object(5)\n",
      "memory usage: 1.4+ MB\n"
     ]
    }
   ],
   "source": [
    "df.info()"
   ]
  },
  {
   "cell_type": "markdown",
   "metadata": {},
   "source": [
    "Se observan valores ausentes, veamos cuantos son por columna"
   ]
  },
  {
   "cell_type": "code",
   "execution_count": 5,
   "metadata": {},
   "outputs": [
    {
     "data": {
      "text/plain": [
       "Name                  2\n",
       "Platform              0\n",
       "Year_of_Release     269\n",
       "Genre                 2\n",
       "NA_sales              0\n",
       "EU_sales              0\n",
       "JP_sales              0\n",
       "Other_sales           0\n",
       "Critic_Score       8578\n",
       "User_Score         6701\n",
       "Rating             6766\n",
       "dtype: int64"
      ]
     },
     "execution_count": 5,
     "metadata": {},
     "output_type": "execute_result"
    }
   ],
   "source": [
    "df.isna().sum()"
   ]
  },
  {
   "cell_type": "markdown",
   "metadata": {},
   "source": [
    "##  Prepara los datos"
   ]
  },
  {
   "cell_type": "markdown",
   "metadata": {},
   "source": [
    "Vamos a corregir los tipos de datos mal cargados de las columnas `year_of_release` y de `user_score`, los nombres de las columnas y analizar los NaN"
   ]
  },
  {
   "cell_type": "code",
   "execution_count": 6,
   "metadata": {},
   "outputs": [],
   "source": [
    "# Cambiamos los nombres de las columnas\n",
    "df.columns = ['name', 'platform', 'year_of_release', 'genre', 'na_sales', 'eu_sales', 'jp_sales', 'other_sales', 'critic_score', 'user_score', 'rating' ]"
   ]
  },
  {
   "cell_type": "code",
   "execution_count": 7,
   "metadata": {
    "scrolled": false
   },
   "outputs": [
    {
     "data": {
      "text/html": [
       "<div>\n",
       "<style scoped>\n",
       "    .dataframe tbody tr th:only-of-type {\n",
       "        vertical-align: middle;\n",
       "    }\n",
       "\n",
       "    .dataframe tbody tr th {\n",
       "        vertical-align: top;\n",
       "    }\n",
       "\n",
       "    .dataframe thead th {\n",
       "        text-align: right;\n",
       "    }\n",
       "</style>\n",
       "<table border=\"1\" class=\"dataframe\">\n",
       "  <thead>\n",
       "    <tr style=\"text-align: right;\">\n",
       "      <th></th>\n",
       "      <th>name</th>\n",
       "      <th>platform</th>\n",
       "      <th>year_of_release</th>\n",
       "      <th>genre</th>\n",
       "      <th>na_sales</th>\n",
       "      <th>eu_sales</th>\n",
       "      <th>jp_sales</th>\n",
       "      <th>other_sales</th>\n",
       "      <th>critic_score</th>\n",
       "      <th>user_score</th>\n",
       "      <th>rating</th>\n",
       "    </tr>\n",
       "  </thead>\n",
       "  <tbody>\n",
       "    <tr>\n",
       "      <th>0</th>\n",
       "      <td>Wii Sports</td>\n",
       "      <td>Wii</td>\n",
       "      <td>2006.0</td>\n",
       "      <td>Sports</td>\n",
       "      <td>41.36</td>\n",
       "      <td>28.96</td>\n",
       "      <td>3.77</td>\n",
       "      <td>8.45</td>\n",
       "      <td>76.0</td>\n",
       "      <td>8</td>\n",
       "      <td>E</td>\n",
       "    </tr>\n",
       "    <tr>\n",
       "      <th>1</th>\n",
       "      <td>Super Mario Bros.</td>\n",
       "      <td>NES</td>\n",
       "      <td>1985.0</td>\n",
       "      <td>Platform</td>\n",
       "      <td>29.08</td>\n",
       "      <td>3.58</td>\n",
       "      <td>6.81</td>\n",
       "      <td>0.77</td>\n",
       "      <td>NaN</td>\n",
       "      <td>NaN</td>\n",
       "      <td>NaN</td>\n",
       "    </tr>\n",
       "    <tr>\n",
       "      <th>2</th>\n",
       "      <td>Mario Kart Wii</td>\n",
       "      <td>Wii</td>\n",
       "      <td>2008.0</td>\n",
       "      <td>Racing</td>\n",
       "      <td>15.68</td>\n",
       "      <td>12.76</td>\n",
       "      <td>3.79</td>\n",
       "      <td>3.29</td>\n",
       "      <td>82.0</td>\n",
       "      <td>8.3</td>\n",
       "      <td>E</td>\n",
       "    </tr>\n",
       "    <tr>\n",
       "      <th>3</th>\n",
       "      <td>Wii Sports Resort</td>\n",
       "      <td>Wii</td>\n",
       "      <td>2009.0</td>\n",
       "      <td>Sports</td>\n",
       "      <td>15.61</td>\n",
       "      <td>10.93</td>\n",
       "      <td>3.28</td>\n",
       "      <td>2.95</td>\n",
       "      <td>80.0</td>\n",
       "      <td>8</td>\n",
       "      <td>E</td>\n",
       "    </tr>\n",
       "    <tr>\n",
       "      <th>4</th>\n",
       "      <td>Pokemon Red/Pokemon Blue</td>\n",
       "      <td>GB</td>\n",
       "      <td>1996.0</td>\n",
       "      <td>Role-Playing</td>\n",
       "      <td>11.27</td>\n",
       "      <td>8.89</td>\n",
       "      <td>10.22</td>\n",
       "      <td>1.00</td>\n",
       "      <td>NaN</td>\n",
       "      <td>NaN</td>\n",
       "      <td>NaN</td>\n",
       "    </tr>\n",
       "  </tbody>\n",
       "</table>\n",
       "</div>"
      ],
      "text/plain": [
       "                       name platform  year_of_release         genre  na_sales  \\\n",
       "0                Wii Sports      Wii           2006.0        Sports     41.36   \n",
       "1         Super Mario Bros.      NES           1985.0      Platform     29.08   \n",
       "2            Mario Kart Wii      Wii           2008.0        Racing     15.68   \n",
       "3         Wii Sports Resort      Wii           2009.0        Sports     15.61   \n",
       "4  Pokemon Red/Pokemon Blue       GB           1996.0  Role-Playing     11.27   \n",
       "\n",
       "   eu_sales  jp_sales  other_sales  critic_score user_score rating  \n",
       "0     28.96      3.77         8.45          76.0          8      E  \n",
       "1      3.58      6.81         0.77           NaN        NaN    NaN  \n",
       "2     12.76      3.79         3.29          82.0        8.3      E  \n",
       "3     10.93      3.28         2.95          80.0          8      E  \n",
       "4      8.89     10.22         1.00           NaN        NaN    NaN  "
      ]
     },
     "execution_count": 7,
     "metadata": {},
     "output_type": "execute_result"
    }
   ],
   "source": [
    "df.head()"
   ]
  },
  {
   "cell_type": "markdown",
   "metadata": {},
   "source": [
    "Los valores en la columna `year_of_release` deberían ser numeros enteros, para tratar los NaN  en lugar de float"
   ]
  },
  {
   "cell_type": "code",
   "execution_count": 8,
   "metadata": {
    "scrolled": true
   },
   "outputs": [
    {
     "data": {
      "text/plain": [
       "Int64Dtype()"
      ]
     },
     "execution_count": 8,
     "metadata": {},
     "output_type": "execute_result"
    }
   ],
   "source": [
    "df['year_of_release'] = df['year_of_release'].astype('Int64')\n",
    "df['year_of_release'].dtype"
   ]
  },
  {
   "cell_type": "markdown",
   "metadata": {},
   "source": [
    "Veamos los valores que toma la columna `user_score`"
   ]
  },
  {
   "cell_type": "code",
   "execution_count": 9,
   "metadata": {
    "scrolled": false
   },
   "outputs": [
    {
     "name": "stdout",
     "output_type": "stream",
     "text": [
      "['8' nan '8.3' '8.5' '6.6' '8.4' '8.6' '7.7' '6.3' '7.4' '8.2' '9' '7.9'\n",
      " '8.1' '8.7' '7.1' '3.4' '5.3' '4.8' '3.2' '8.9' '6.4' '7.8' '7.5' '2.6'\n",
      " '7.2' '9.2' '7' '7.3' '4.3' '7.6' '5.7' '5' '9.1' '6.5' 'tbd' '8.8' '6.9'\n",
      " '9.4' '6.8' '6.1' '6.7' '5.4' '4' '4.9' '4.5' '9.3' '6.2' '4.2' '6' '3.7'\n",
      " '4.1' '5.8' '5.6' '5.5' '4.4' '4.6' '5.9' '3.9' '3.1' '2.9' '5.2' '3.3'\n",
      " '4.7' '5.1' '3.5' '2.5' '1.9' '3' '2.7' '2.2' '2' '9.5' '2.1' '3.6' '2.8'\n",
      " '1.8' '3.8' '0' '1.6' '9.6' '2.4' '1.7' '1.1' '0.3' '1.5' '0.7' '1.2'\n",
      " '2.3' '0.5' '1.3' '0.2' '0.6' '1.4' '0.9' '1' '9.7']\n"
     ]
    }
   ],
   "source": [
    "print(df['user_score'].unique())"
   ]
  },
  {
   "cell_type": "markdown",
   "metadata": {},
   "source": [
    "Vemos que hay valores que salen como `tbd`, los vamos a tratar mas adelante"
   ]
  },
  {
   "cell_type": "markdown",
   "metadata": {},
   "source": [
    "### Valores Ausentes"
   ]
  },
  {
   "cell_type": "markdown",
   "metadata": {},
   "source": [
    "Veamos la descripción de los valores de cada columna para saber a que nos enfretamos"
   ]
  },
  {
   "cell_type": "code",
   "execution_count": 10,
   "metadata": {},
   "outputs": [
    {
     "data": {
      "text/html": [
       "<div>\n",
       "<style scoped>\n",
       "    .dataframe tbody tr th:only-of-type {\n",
       "        vertical-align: middle;\n",
       "    }\n",
       "\n",
       "    .dataframe tbody tr th {\n",
       "        vertical-align: top;\n",
       "    }\n",
       "\n",
       "    .dataframe thead th {\n",
       "        text-align: right;\n",
       "    }\n",
       "</style>\n",
       "<table border=\"1\" class=\"dataframe\">\n",
       "  <thead>\n",
       "    <tr style=\"text-align: right;\">\n",
       "      <th></th>\n",
       "      <th>year_of_release</th>\n",
       "      <th>na_sales</th>\n",
       "      <th>eu_sales</th>\n",
       "      <th>jp_sales</th>\n",
       "      <th>other_sales</th>\n",
       "      <th>critic_score</th>\n",
       "    </tr>\n",
       "  </thead>\n",
       "  <tbody>\n",
       "    <tr>\n",
       "      <th>count</th>\n",
       "      <td>16446.000000</td>\n",
       "      <td>16715.000000</td>\n",
       "      <td>16715.000000</td>\n",
       "      <td>16715.000000</td>\n",
       "      <td>16715.000000</td>\n",
       "      <td>8137.000000</td>\n",
       "    </tr>\n",
       "    <tr>\n",
       "      <th>mean</th>\n",
       "      <td>2006.484616</td>\n",
       "      <td>0.263377</td>\n",
       "      <td>0.145060</td>\n",
       "      <td>0.077617</td>\n",
       "      <td>0.047342</td>\n",
       "      <td>68.967679</td>\n",
       "    </tr>\n",
       "    <tr>\n",
       "      <th>std</th>\n",
       "      <td>5.877050</td>\n",
       "      <td>0.813604</td>\n",
       "      <td>0.503339</td>\n",
       "      <td>0.308853</td>\n",
       "      <td>0.186731</td>\n",
       "      <td>13.938165</td>\n",
       "    </tr>\n",
       "    <tr>\n",
       "      <th>min</th>\n",
       "      <td>1980.000000</td>\n",
       "      <td>0.000000</td>\n",
       "      <td>0.000000</td>\n",
       "      <td>0.000000</td>\n",
       "      <td>0.000000</td>\n",
       "      <td>13.000000</td>\n",
       "    </tr>\n",
       "    <tr>\n",
       "      <th>25%</th>\n",
       "      <td>2003.000000</td>\n",
       "      <td>0.000000</td>\n",
       "      <td>0.000000</td>\n",
       "      <td>0.000000</td>\n",
       "      <td>0.000000</td>\n",
       "      <td>60.000000</td>\n",
       "    </tr>\n",
       "    <tr>\n",
       "      <th>50%</th>\n",
       "      <td>2007.000000</td>\n",
       "      <td>0.080000</td>\n",
       "      <td>0.020000</td>\n",
       "      <td>0.000000</td>\n",
       "      <td>0.010000</td>\n",
       "      <td>71.000000</td>\n",
       "    </tr>\n",
       "    <tr>\n",
       "      <th>75%</th>\n",
       "      <td>2010.000000</td>\n",
       "      <td>0.240000</td>\n",
       "      <td>0.110000</td>\n",
       "      <td>0.040000</td>\n",
       "      <td>0.030000</td>\n",
       "      <td>79.000000</td>\n",
       "    </tr>\n",
       "    <tr>\n",
       "      <th>max</th>\n",
       "      <td>2016.000000</td>\n",
       "      <td>41.360000</td>\n",
       "      <td>28.960000</td>\n",
       "      <td>10.220000</td>\n",
       "      <td>10.570000</td>\n",
       "      <td>98.000000</td>\n",
       "    </tr>\n",
       "  </tbody>\n",
       "</table>\n",
       "</div>"
      ],
      "text/plain": [
       "       year_of_release      na_sales      eu_sales      jp_sales  \\\n",
       "count     16446.000000  16715.000000  16715.000000  16715.000000   \n",
       "mean       2006.484616      0.263377      0.145060      0.077617   \n",
       "std           5.877050      0.813604      0.503339      0.308853   \n",
       "min        1980.000000      0.000000      0.000000      0.000000   \n",
       "25%        2003.000000      0.000000      0.000000      0.000000   \n",
       "50%        2007.000000      0.080000      0.020000      0.000000   \n",
       "75%        2010.000000      0.240000      0.110000      0.040000   \n",
       "max        2016.000000     41.360000     28.960000     10.220000   \n",
       "\n",
       "        other_sales  critic_score  \n",
       "count  16715.000000   8137.000000  \n",
       "mean       0.047342     68.967679  \n",
       "std        0.186731     13.938165  \n",
       "min        0.000000     13.000000  \n",
       "25%        0.000000     60.000000  \n",
       "50%        0.010000     71.000000  \n",
       "75%        0.030000     79.000000  \n",
       "max       10.570000     98.000000  "
      ]
     },
     "execution_count": 10,
     "metadata": {},
     "output_type": "execute_result"
    }
   ],
   "source": [
    "df.describe()"
   ]
  },
  {
   "cell_type": "markdown",
   "metadata": {},
   "source": [
    "#### `name` y `genre`"
   ]
  },
  {
   "cell_type": "markdown",
   "metadata": {},
   "source": [
    "Los NaN de las columnas `name` y `genre`son solo 2 asi que vamos a eliminarlos no van a influir en los datos finales "
   ]
  },
  {
   "cell_type": "code",
   "execution_count": 11,
   "metadata": {},
   "outputs": [
    {
     "data": {
      "text/plain": [
       "name                  0\n",
       "platform              0\n",
       "year_of_release     269\n",
       "genre                 0\n",
       "na_sales              0\n",
       "eu_sales              0\n",
       "jp_sales              0\n",
       "other_sales           0\n",
       "critic_score       8576\n",
       "user_score         6699\n",
       "rating             6764\n",
       "dtype: int64"
      ]
     },
     "execution_count": 11,
     "metadata": {},
     "output_type": "execute_result"
    }
   ],
   "source": [
    "df.dropna(subset=['name'], inplace=True)\n",
    "df.dropna(subset=['genre'], inplace=True)\n",
    "df.isna().sum()"
   ]
  },
  {
   "cell_type": "markdown",
   "metadata": {},
   "source": [
    "#### `year_of_releace`"
   ]
  },
  {
   "cell_type": "code",
   "execution_count": 12,
   "metadata": {},
   "outputs": [
    {
     "name": "stdout",
     "output_type": "stream",
     "text": [
      "1.6095255190570215\n"
     ]
    }
   ],
   "source": [
    "nan_year = df['year_of_release'].isna().sum() / len(df['year_of_release']) * 100\n",
    "print(nan_year)"
   ]
  },
  {
   "cell_type": "markdown",
   "metadata": {},
   "source": [
    "Los valores NaN de `year_of_release` son el 1,6 de los datos y no puedo rellenarlos con valores como la media o la mediana, porque estaria introduciendo un error con juegos de 1980 como del 2006 o del 2016 como del 2006, por lo que creo que lo mas razonable seria eliminarlos"
   ]
  },
  {
   "cell_type": "code",
   "execution_count": 13,
   "metadata": {},
   "outputs": [
    {
     "data": {
      "text/plain": [
       "name                  0\n",
       "platform              0\n",
       "year_of_release       0\n",
       "genre                 0\n",
       "na_sales              0\n",
       "eu_sales              0\n",
       "jp_sales              0\n",
       "other_sales           0\n",
       "critic_score       8461\n",
       "user_score         6605\n",
       "rating             6676\n",
       "dtype: int64"
      ]
     },
     "execution_count": 13,
     "metadata": {},
     "output_type": "execute_result"
    }
   ],
   "source": [
    "df.dropna(subset=['year_of_release'], inplace=True)\n",
    "df.isna().sum()"
   ]
  },
  {
   "cell_type": "markdown",
   "metadata": {},
   "source": [
    "#### `user_score` y `critic_score`"
   ]
  },
  {
   "cell_type": "markdown",
   "metadata": {},
   "source": [
    "Los valores que se observan de la puntuacion de los usuarios como `tbd` deberia corresponder al `rating` propocionado por Entertainment Software Rating Board (ESRB). Voy a reemplazar las columnas de `rating`que se encuentren con valores NaN por las mismas que sean `tbd`en `user_score`, creo que fue por un error de tipeo y luego a las columnas que posean `tbd` seran llenadas con NaN."
   ]
  },
  {
   "cell_type": "code",
   "execution_count": 14,
   "metadata": {},
   "outputs": [
    {
     "name": "stdout",
     "output_type": "stream",
     "text": [
      "El valor 'tbd' aparece 2376 veces en la columna 'user_score'.\n"
     ]
    }
   ],
   "source": [
    "# filtrar los valores que son 'tbd'\n",
    "tbd_count = df.loc[df['user_score'] == 'tbd', 'user_score'].count()\n",
    "# mostrar los resultados\n",
    "print(\"El valor 'tbd' aparece\", tbd_count, \"veces en la columna 'user_score'.\")"
   ]
  },
  {
   "cell_type": "code",
   "execution_count": 15,
   "metadata": {
    "scrolled": true
   },
   "outputs": [
    {
     "data": {
      "text/plain": [
       "name                  0\n",
       "platform              0\n",
       "year_of_release       0\n",
       "genre                 0\n",
       "na_sales              0\n",
       "eu_sales              0\n",
       "jp_sales              0\n",
       "other_sales           0\n",
       "critic_score       8461\n",
       "user_score         6605\n",
       "rating             6676\n",
       "dtype: int64"
      ]
     },
     "execution_count": 15,
     "metadata": {},
     "output_type": "execute_result"
    }
   ],
   "source": [
    "df.isna().sum()"
   ]
  },
  {
   "cell_type": "markdown",
   "metadata": {},
   "source": [
    "Veo que los valores ausentes de `user_score` son similares a los de `rating` por lo que me da a pensar que se corresponden"
   ]
  },
  {
   "cell_type": "code",
   "execution_count": 16,
   "metadata": {},
   "outputs": [
    {
     "data": {
      "text/plain": [
       "name                  0\n",
       "platform              0\n",
       "year_of_release       0\n",
       "genre                 0\n",
       "na_sales              0\n",
       "eu_sales              0\n",
       "jp_sales              0\n",
       "other_sales           0\n",
       "critic_score       8461\n",
       "user_score         6605\n",
       "rating             6626\n",
       "dtype: int64"
      ]
     },
     "execution_count": 16,
     "metadata": {},
     "output_type": "execute_result"
    }
   ],
   "source": [
    "# Reemplazar los valores NaN de 'rating' cuando 'user_score' es 'tbd'\n",
    "mask = df['user_score'] == 'tbd'\n",
    "df.loc[mask, 'rating'] = df.loc[mask, 'rating'].fillna('tbd')\n",
    "df.isna().sum()"
   ]
  },
  {
   "cell_type": "markdown",
   "metadata": {},
   "source": [
    "No hay valores que correspondan a `tbd` de la columna `user_score` con valores `NaN` de la columna `rating`, asi que voy a convertir los valores `tbd` a `NaN`."
   ]
  },
  {
   "cell_type": "code",
   "execution_count": 17,
   "metadata": {},
   "outputs": [
    {
     "name": "stdout",
     "output_type": "stream",
     "text": [
      "['8' nan '8.3' '8.5' '6.6' '8.4' '8.6' '7.7' '6.3' '7.4' '8.2' '9' '7.9'\n",
      " '8.1' '8.7' '7.1' '3.4' '5.3' '4.8' '3.2' '8.9' '6.4' '7.8' '7.5' '2.6'\n",
      " '7.2' '9.2' '7' '7.3' '4.3' '7.6' '5.7' '5' '9.1' '6.5' '8.8' '6.9' '9.4'\n",
      " '6.8' '6.1' '6.7' '5.4' '4' '4.9' '4.5' '9.3' '6.2' '4.2' '6' '3.7' '4.1'\n",
      " '5.8' '5.6' '5.5' '4.4' '4.6' '5.9' '3.9' '3.1' '2.9' '5.2' '3.3' '4.7'\n",
      " '5.1' '3.5' '2.5' '1.9' '3' '2.7' '2.2' '2' '9.5' '2.1' '3.6' '2.8' '1.8'\n",
      " '3.8' '0' '1.6' '9.6' '2.4' '1.7' '1.1' '0.3' '1.5' '0.7' '1.2' '2.3'\n",
      " '0.5' '1.3' '0.2' '0.6' '1.4' '0.9' '1' '9.7']\n"
     ]
    }
   ],
   "source": [
    "# Reemplazamos 'tbd' por NaN en la columna 'user_score'\n",
    "df['user_score'] = df['user_score'].replace('tbd', np.nan)\n",
    "print(df['user_score'].unique())"
   ]
  },
  {
   "cell_type": "code",
   "execution_count": 18,
   "metadata": {},
   "outputs": [
    {
     "data": {
      "text/plain": [
       "dtype('float64')"
      ]
     },
     "execution_count": 18,
     "metadata": {},
     "output_type": "execute_result"
    }
   ],
   "source": [
    "# Convertimos la columna 'user_score' a tipo de datos 'float'\n",
    "df['user_score'] = df['user_score'].astype('float')\n",
    "df['user_score'].dtype"
   ]
  },
  {
   "cell_type": "markdown",
   "metadata": {},
   "source": [
    "Ahora si los dtype estan correctos"
   ]
  },
  {
   "cell_type": "markdown",
   "metadata": {},
   "source": [
    "Los valores NaN de `user_score` y `critic_score` son demasiados para eliminarlos voy a dejarlos por el momento capaz que mas adelante pueda ver una relación entre ellos. Se corrigio los valores atipicos que salian como `tbd`"
   ]
  },
  {
   "cell_type": "markdown",
   "metadata": {},
   "source": [
    "#### `rating`"
   ]
  },
  {
   "cell_type": "markdown",
   "metadata": {},
   "source": [
    "En `rating` tenemos que ver el genero primero para que se corresponda con el sistema de clasificación (ESRB) "
   ]
  },
  {
   "cell_type": "code",
   "execution_count": 19,
   "metadata": {},
   "outputs": [
    {
     "name": "stdout",
     "output_type": "stream",
     "text": [
      "['Sports' 'Platform' 'Racing' 'Role-Playing' 'Puzzle' 'Misc' 'Shooter'\n",
      " 'Simulation' 'Action' 'Fighting' 'Adventure' 'Strategy']\n"
     ]
    }
   ],
   "source": [
    "print(df['genre'].unique())"
   ]
  },
  {
   "cell_type": "code",
   "execution_count": 20,
   "metadata": {},
   "outputs": [
    {
     "name": "stdout",
     "output_type": "stream",
     "text": [
      "['E' nan 'M' 'T' 'E10+' 'K-A' 'AO' 'tbd' 'EC' 'RP']\n"
     ]
    }
   ],
   "source": [
    "print(df['rating'].unique())"
   ]
  },
  {
   "cell_type": "markdown",
   "metadata": {},
   "source": [
    "Los valores que se observan son:\n",
    "* E = Everyone (Todos)\n",
    "* M = Mature (Maduro )\n",
    "* T = Teen (Adolescentes)\n",
    "* E10+ = Everyone 10+ (Todos mayores de 10 años)\n",
    "* K-A = Kid to Adult (De chicos a Adultos)\n",
    "* AO = Adult Only (Adultos Solamente)\n",
    "* tbd = to be determined\" (a determinar)\n",
    "* EC = Early Childhood (Niñez Temprana)\n",
    "* RP = Rating Pending (Aun Sin Clasificar)"
   ]
  },
  {
   "cell_type": "markdown",
   "metadata": {},
   "source": [
    "Creo una función que me rellene los valores NaN, dependiendo del genero del juego "
   ]
  },
  {
   "cell_type": "code",
   "execution_count": 21,
   "metadata": {},
   "outputs": [],
   "source": [
    "def fill_missing_ratings(df):\n",
    "    rating_dict = {\n",
    "        'Everyone': 'E',\n",
    "        'Mature': 'M',\n",
    "        'Teen': 'T',\n",
    "        'Everyone_10+': 'E10+',\n",
    "        'Kid_to_Adult': 'K-A',\n",
    "        'Adult_Only': 'AO',\n",
    "        'Early_Childhood': 'EC',\n",
    "        'Rating_Pending': 'RP'\n",
    "    }\n",
    "    for index, row in df.iterrows():\n",
    "        if pd.isna(row['rating']):\n",
    "            genre = row['genre']\n",
    "            if genre in ['Sports', 'Racing']:\n",
    "                df.at[index, 'rating'] = rating_dict['Everyone']\n",
    "            elif genre in ['Action', 'Simulation']:\n",
    "                df.at[index, 'rating'] = rating_dict['Mature']\n",
    "            elif genre in ['Shooter']:\n",
    "                df.at[index, 'rating'] = rating_dict['Teen']\n",
    "            elif genre in ['Platform', 'Adventure','Role-Playing']:\n",
    "                df.at[index, 'rating'] = rating_dict['Everyone_10+']\n",
    "            elif genre in ['Puzzle', 'Strategy']:\n",
    "                df.at[index, 'rating'] = rating_dict['Early_Childhood']\n",
    "            else:\n",
    "                df.at[index, 'rating'] = rating_dict['Rating_Pending']\n",
    "        elif row['rating'] == 'tbd':\n",
    "            df.at[index, 'rating'] = rating_dict['Rating_Pending']\n",
    "    return df"
   ]
  },
  {
   "cell_type": "markdown",
   "metadata": {},
   "source": [
    "Compruebo si funciono el llenado de los valores NaN"
   ]
  },
  {
   "cell_type": "code",
   "execution_count": 22,
   "metadata": {},
   "outputs": [
    {
     "data": {
      "text/plain": [
       "0"
      ]
     },
     "execution_count": 22,
     "metadata": {},
     "output_type": "execute_result"
    }
   ],
   "source": [
    "df = fill_missing_ratings(df)\n",
    "df['rating'].isna().sum()"
   ]
  },
  {
   "cell_type": "markdown",
   "metadata": {},
   "source": [
    "No se ven ningun valor NaN, funciono correctamente"
   ]
  },
  {
   "cell_type": "markdown",
   "metadata": {},
   "source": [
    "### Calcula de las ventas totales"
   ]
  },
  {
   "cell_type": "markdown",
   "metadata": {},
   "source": [
    "Vamos a ver las ventas totales de cada region para cada juego"
   ]
  },
  {
   "cell_type": "code",
   "execution_count": 23,
   "metadata": {
    "scrolled": false
   },
   "outputs": [
    {
     "data": {
      "text/html": [
       "<div>\n",
       "<style scoped>\n",
       "    .dataframe tbody tr th:only-of-type {\n",
       "        vertical-align: middle;\n",
       "    }\n",
       "\n",
       "    .dataframe tbody tr th {\n",
       "        vertical-align: top;\n",
       "    }\n",
       "\n",
       "    .dataframe thead th {\n",
       "        text-align: right;\n",
       "    }\n",
       "</style>\n",
       "<table border=\"1\" class=\"dataframe\">\n",
       "  <thead>\n",
       "    <tr style=\"text-align: right;\">\n",
       "      <th></th>\n",
       "      <th>name</th>\n",
       "      <th>platform</th>\n",
       "      <th>year_of_release</th>\n",
       "      <th>genre</th>\n",
       "      <th>na_sales</th>\n",
       "      <th>eu_sales</th>\n",
       "      <th>jp_sales</th>\n",
       "      <th>other_sales</th>\n",
       "      <th>critic_score</th>\n",
       "      <th>user_score</th>\n",
       "      <th>rating</th>\n",
       "      <th>total_sales</th>\n",
       "    </tr>\n",
       "  </thead>\n",
       "  <tbody>\n",
       "    <tr>\n",
       "      <th>0</th>\n",
       "      <td>Wii Sports</td>\n",
       "      <td>Wii</td>\n",
       "      <td>2006</td>\n",
       "      <td>Sports</td>\n",
       "      <td>41.36</td>\n",
       "      <td>28.96</td>\n",
       "      <td>3.77</td>\n",
       "      <td>8.45</td>\n",
       "      <td>76.0</td>\n",
       "      <td>8.0</td>\n",
       "      <td>E</td>\n",
       "      <td>82.54</td>\n",
       "    </tr>\n",
       "    <tr>\n",
       "      <th>1</th>\n",
       "      <td>Super Mario Bros.</td>\n",
       "      <td>NES</td>\n",
       "      <td>1985</td>\n",
       "      <td>Platform</td>\n",
       "      <td>29.08</td>\n",
       "      <td>3.58</td>\n",
       "      <td>6.81</td>\n",
       "      <td>0.77</td>\n",
       "      <td>NaN</td>\n",
       "      <td>NaN</td>\n",
       "      <td>E10+</td>\n",
       "      <td>40.24</td>\n",
       "    </tr>\n",
       "    <tr>\n",
       "      <th>2</th>\n",
       "      <td>Mario Kart Wii</td>\n",
       "      <td>Wii</td>\n",
       "      <td>2008</td>\n",
       "      <td>Racing</td>\n",
       "      <td>15.68</td>\n",
       "      <td>12.76</td>\n",
       "      <td>3.79</td>\n",
       "      <td>3.29</td>\n",
       "      <td>82.0</td>\n",
       "      <td>8.3</td>\n",
       "      <td>E</td>\n",
       "      <td>35.52</td>\n",
       "    </tr>\n",
       "    <tr>\n",
       "      <th>3</th>\n",
       "      <td>Wii Sports Resort</td>\n",
       "      <td>Wii</td>\n",
       "      <td>2009</td>\n",
       "      <td>Sports</td>\n",
       "      <td>15.61</td>\n",
       "      <td>10.93</td>\n",
       "      <td>3.28</td>\n",
       "      <td>2.95</td>\n",
       "      <td>80.0</td>\n",
       "      <td>8.0</td>\n",
       "      <td>E</td>\n",
       "      <td>32.77</td>\n",
       "    </tr>\n",
       "    <tr>\n",
       "      <th>4</th>\n",
       "      <td>Pokemon Red/Pokemon Blue</td>\n",
       "      <td>GB</td>\n",
       "      <td>1996</td>\n",
       "      <td>Role-Playing</td>\n",
       "      <td>11.27</td>\n",
       "      <td>8.89</td>\n",
       "      <td>10.22</td>\n",
       "      <td>1.00</td>\n",
       "      <td>NaN</td>\n",
       "      <td>NaN</td>\n",
       "      <td>E10+</td>\n",
       "      <td>31.38</td>\n",
       "    </tr>\n",
       "    <tr>\n",
       "      <th>5</th>\n",
       "      <td>Tetris</td>\n",
       "      <td>GB</td>\n",
       "      <td>1989</td>\n",
       "      <td>Puzzle</td>\n",
       "      <td>23.20</td>\n",
       "      <td>2.26</td>\n",
       "      <td>4.22</td>\n",
       "      <td>0.58</td>\n",
       "      <td>NaN</td>\n",
       "      <td>NaN</td>\n",
       "      <td>EC</td>\n",
       "      <td>30.26</td>\n",
       "    </tr>\n",
       "    <tr>\n",
       "      <th>6</th>\n",
       "      <td>New Super Mario Bros.</td>\n",
       "      <td>DS</td>\n",
       "      <td>2006</td>\n",
       "      <td>Platform</td>\n",
       "      <td>11.28</td>\n",
       "      <td>9.14</td>\n",
       "      <td>6.50</td>\n",
       "      <td>2.88</td>\n",
       "      <td>89.0</td>\n",
       "      <td>8.5</td>\n",
       "      <td>E</td>\n",
       "      <td>29.80</td>\n",
       "    </tr>\n",
       "    <tr>\n",
       "      <th>7</th>\n",
       "      <td>Wii Play</td>\n",
       "      <td>Wii</td>\n",
       "      <td>2006</td>\n",
       "      <td>Misc</td>\n",
       "      <td>13.96</td>\n",
       "      <td>9.18</td>\n",
       "      <td>2.93</td>\n",
       "      <td>2.84</td>\n",
       "      <td>58.0</td>\n",
       "      <td>6.6</td>\n",
       "      <td>E</td>\n",
       "      <td>28.91</td>\n",
       "    </tr>\n",
       "    <tr>\n",
       "      <th>8</th>\n",
       "      <td>New Super Mario Bros. Wii</td>\n",
       "      <td>Wii</td>\n",
       "      <td>2009</td>\n",
       "      <td>Platform</td>\n",
       "      <td>14.44</td>\n",
       "      <td>6.94</td>\n",
       "      <td>4.70</td>\n",
       "      <td>2.24</td>\n",
       "      <td>87.0</td>\n",
       "      <td>8.4</td>\n",
       "      <td>E</td>\n",
       "      <td>28.32</td>\n",
       "    </tr>\n",
       "    <tr>\n",
       "      <th>9</th>\n",
       "      <td>Duck Hunt</td>\n",
       "      <td>NES</td>\n",
       "      <td>1984</td>\n",
       "      <td>Shooter</td>\n",
       "      <td>26.93</td>\n",
       "      <td>0.63</td>\n",
       "      <td>0.28</td>\n",
       "      <td>0.47</td>\n",
       "      <td>NaN</td>\n",
       "      <td>NaN</td>\n",
       "      <td>T</td>\n",
       "      <td>28.31</td>\n",
       "    </tr>\n",
       "    <tr>\n",
       "      <th>10</th>\n",
       "      <td>Nintendogs</td>\n",
       "      <td>DS</td>\n",
       "      <td>2005</td>\n",
       "      <td>Simulation</td>\n",
       "      <td>9.05</td>\n",
       "      <td>10.95</td>\n",
       "      <td>1.93</td>\n",
       "      <td>2.74</td>\n",
       "      <td>NaN</td>\n",
       "      <td>NaN</td>\n",
       "      <td>M</td>\n",
       "      <td>24.67</td>\n",
       "    </tr>\n",
       "    <tr>\n",
       "      <th>11</th>\n",
       "      <td>Mario Kart DS</td>\n",
       "      <td>DS</td>\n",
       "      <td>2005</td>\n",
       "      <td>Racing</td>\n",
       "      <td>9.71</td>\n",
       "      <td>7.47</td>\n",
       "      <td>4.13</td>\n",
       "      <td>1.90</td>\n",
       "      <td>91.0</td>\n",
       "      <td>8.6</td>\n",
       "      <td>E</td>\n",
       "      <td>23.21</td>\n",
       "    </tr>\n",
       "    <tr>\n",
       "      <th>12</th>\n",
       "      <td>Pokemon Gold/Pokemon Silver</td>\n",
       "      <td>GB</td>\n",
       "      <td>1999</td>\n",
       "      <td>Role-Playing</td>\n",
       "      <td>9.00</td>\n",
       "      <td>6.18</td>\n",
       "      <td>7.20</td>\n",
       "      <td>0.71</td>\n",
       "      <td>NaN</td>\n",
       "      <td>NaN</td>\n",
       "      <td>E10+</td>\n",
       "      <td>23.09</td>\n",
       "    </tr>\n",
       "    <tr>\n",
       "      <th>13</th>\n",
       "      <td>Wii Fit</td>\n",
       "      <td>Wii</td>\n",
       "      <td>2007</td>\n",
       "      <td>Sports</td>\n",
       "      <td>8.92</td>\n",
       "      <td>8.03</td>\n",
       "      <td>3.60</td>\n",
       "      <td>2.15</td>\n",
       "      <td>80.0</td>\n",
       "      <td>7.7</td>\n",
       "      <td>E</td>\n",
       "      <td>22.70</td>\n",
       "    </tr>\n",
       "    <tr>\n",
       "      <th>14</th>\n",
       "      <td>Kinect Adventures!</td>\n",
       "      <td>X360</td>\n",
       "      <td>2010</td>\n",
       "      <td>Misc</td>\n",
       "      <td>15.00</td>\n",
       "      <td>4.89</td>\n",
       "      <td>0.24</td>\n",
       "      <td>1.69</td>\n",
       "      <td>61.0</td>\n",
       "      <td>6.3</td>\n",
       "      <td>E</td>\n",
       "      <td>21.82</td>\n",
       "    </tr>\n",
       "    <tr>\n",
       "      <th>15</th>\n",
       "      <td>Wii Fit Plus</td>\n",
       "      <td>Wii</td>\n",
       "      <td>2009</td>\n",
       "      <td>Sports</td>\n",
       "      <td>9.01</td>\n",
       "      <td>8.49</td>\n",
       "      <td>2.53</td>\n",
       "      <td>1.77</td>\n",
       "      <td>80.0</td>\n",
       "      <td>7.4</td>\n",
       "      <td>E</td>\n",
       "      <td>21.80</td>\n",
       "    </tr>\n",
       "    <tr>\n",
       "      <th>16</th>\n",
       "      <td>Grand Theft Auto V</td>\n",
       "      <td>PS3</td>\n",
       "      <td>2013</td>\n",
       "      <td>Action</td>\n",
       "      <td>7.02</td>\n",
       "      <td>9.09</td>\n",
       "      <td>0.98</td>\n",
       "      <td>3.96</td>\n",
       "      <td>97.0</td>\n",
       "      <td>8.2</td>\n",
       "      <td>M</td>\n",
       "      <td>21.05</td>\n",
       "    </tr>\n",
       "    <tr>\n",
       "      <th>17</th>\n",
       "      <td>Grand Theft Auto: San Andreas</td>\n",
       "      <td>PS2</td>\n",
       "      <td>2004</td>\n",
       "      <td>Action</td>\n",
       "      <td>9.43</td>\n",
       "      <td>0.40</td>\n",
       "      <td>0.41</td>\n",
       "      <td>10.57</td>\n",
       "      <td>95.0</td>\n",
       "      <td>9.0</td>\n",
       "      <td>M</td>\n",
       "      <td>20.81</td>\n",
       "    </tr>\n",
       "    <tr>\n",
       "      <th>18</th>\n",
       "      <td>Super Mario World</td>\n",
       "      <td>SNES</td>\n",
       "      <td>1990</td>\n",
       "      <td>Platform</td>\n",
       "      <td>12.78</td>\n",
       "      <td>3.75</td>\n",
       "      <td>3.54</td>\n",
       "      <td>0.55</td>\n",
       "      <td>NaN</td>\n",
       "      <td>NaN</td>\n",
       "      <td>E10+</td>\n",
       "      <td>20.62</td>\n",
       "    </tr>\n",
       "    <tr>\n",
       "      <th>19</th>\n",
       "      <td>Brain Age: Train Your Brain in Minutes a Day</td>\n",
       "      <td>DS</td>\n",
       "      <td>2005</td>\n",
       "      <td>Misc</td>\n",
       "      <td>4.74</td>\n",
       "      <td>9.20</td>\n",
       "      <td>4.16</td>\n",
       "      <td>2.04</td>\n",
       "      <td>77.0</td>\n",
       "      <td>7.9</td>\n",
       "      <td>E</td>\n",
       "      <td>20.14</td>\n",
       "    </tr>\n",
       "    <tr>\n",
       "      <th>20</th>\n",
       "      <td>Pokemon Diamond/Pokemon Pearl</td>\n",
       "      <td>DS</td>\n",
       "      <td>2006</td>\n",
       "      <td>Role-Playing</td>\n",
       "      <td>6.38</td>\n",
       "      <td>4.46</td>\n",
       "      <td>6.04</td>\n",
       "      <td>1.36</td>\n",
       "      <td>NaN</td>\n",
       "      <td>NaN</td>\n",
       "      <td>E10+</td>\n",
       "      <td>18.24</td>\n",
       "    </tr>\n",
       "    <tr>\n",
       "      <th>21</th>\n",
       "      <td>Super Mario Land</td>\n",
       "      <td>GB</td>\n",
       "      <td>1989</td>\n",
       "      <td>Platform</td>\n",
       "      <td>10.83</td>\n",
       "      <td>2.71</td>\n",
       "      <td>4.18</td>\n",
       "      <td>0.42</td>\n",
       "      <td>NaN</td>\n",
       "      <td>NaN</td>\n",
       "      <td>E10+</td>\n",
       "      <td>18.14</td>\n",
       "    </tr>\n",
       "    <tr>\n",
       "      <th>22</th>\n",
       "      <td>Super Mario Bros. 3</td>\n",
       "      <td>NES</td>\n",
       "      <td>1988</td>\n",
       "      <td>Platform</td>\n",
       "      <td>9.54</td>\n",
       "      <td>3.44</td>\n",
       "      <td>3.84</td>\n",
       "      <td>0.46</td>\n",
       "      <td>NaN</td>\n",
       "      <td>NaN</td>\n",
       "      <td>E10+</td>\n",
       "      <td>17.28</td>\n",
       "    </tr>\n",
       "    <tr>\n",
       "      <th>23</th>\n",
       "      <td>Grand Theft Auto V</td>\n",
       "      <td>X360</td>\n",
       "      <td>2013</td>\n",
       "      <td>Action</td>\n",
       "      <td>9.66</td>\n",
       "      <td>5.14</td>\n",
       "      <td>0.06</td>\n",
       "      <td>1.41</td>\n",
       "      <td>97.0</td>\n",
       "      <td>8.1</td>\n",
       "      <td>M</td>\n",
       "      <td>16.27</td>\n",
       "    </tr>\n",
       "    <tr>\n",
       "      <th>24</th>\n",
       "      <td>Grand Theft Auto: Vice City</td>\n",
       "      <td>PS2</td>\n",
       "      <td>2002</td>\n",
       "      <td>Action</td>\n",
       "      <td>8.41</td>\n",
       "      <td>5.49</td>\n",
       "      <td>0.47</td>\n",
       "      <td>1.78</td>\n",
       "      <td>95.0</td>\n",
       "      <td>8.7</td>\n",
       "      <td>M</td>\n",
       "      <td>16.15</td>\n",
       "    </tr>\n",
       "    <tr>\n",
       "      <th>25</th>\n",
       "      <td>Pokemon Ruby/Pokemon Sapphire</td>\n",
       "      <td>GBA</td>\n",
       "      <td>2002</td>\n",
       "      <td>Role-Playing</td>\n",
       "      <td>6.06</td>\n",
       "      <td>3.90</td>\n",
       "      <td>5.38</td>\n",
       "      <td>0.50</td>\n",
       "      <td>NaN</td>\n",
       "      <td>NaN</td>\n",
       "      <td>E10+</td>\n",
       "      <td>15.84</td>\n",
       "    </tr>\n",
       "    <tr>\n",
       "      <th>26</th>\n",
       "      <td>Brain Age 2: More Training in Minutes a Day</td>\n",
       "      <td>DS</td>\n",
       "      <td>2005</td>\n",
       "      <td>Puzzle</td>\n",
       "      <td>3.43</td>\n",
       "      <td>5.35</td>\n",
       "      <td>5.32</td>\n",
       "      <td>1.18</td>\n",
       "      <td>77.0</td>\n",
       "      <td>7.1</td>\n",
       "      <td>E</td>\n",
       "      <td>15.28</td>\n",
       "    </tr>\n",
       "    <tr>\n",
       "      <th>27</th>\n",
       "      <td>Pokemon Black/Pokemon White</td>\n",
       "      <td>DS</td>\n",
       "      <td>2010</td>\n",
       "      <td>Role-Playing</td>\n",
       "      <td>5.51</td>\n",
       "      <td>3.17</td>\n",
       "      <td>5.65</td>\n",
       "      <td>0.80</td>\n",
       "      <td>NaN</td>\n",
       "      <td>NaN</td>\n",
       "      <td>E10+</td>\n",
       "      <td>15.13</td>\n",
       "    </tr>\n",
       "    <tr>\n",
       "      <th>28</th>\n",
       "      <td>Gran Turismo 3: A-Spec</td>\n",
       "      <td>PS2</td>\n",
       "      <td>2001</td>\n",
       "      <td>Racing</td>\n",
       "      <td>6.85</td>\n",
       "      <td>5.09</td>\n",
       "      <td>1.87</td>\n",
       "      <td>1.16</td>\n",
       "      <td>95.0</td>\n",
       "      <td>8.4</td>\n",
       "      <td>E</td>\n",
       "      <td>14.97</td>\n",
       "    </tr>\n",
       "    <tr>\n",
       "      <th>29</th>\n",
       "      <td>Call of Duty: Modern Warfare 3</td>\n",
       "      <td>X360</td>\n",
       "      <td>2011</td>\n",
       "      <td>Shooter</td>\n",
       "      <td>9.04</td>\n",
       "      <td>4.24</td>\n",
       "      <td>0.13</td>\n",
       "      <td>1.32</td>\n",
       "      <td>88.0</td>\n",
       "      <td>3.4</td>\n",
       "      <td>M</td>\n",
       "      <td>14.73</td>\n",
       "    </tr>\n",
       "  </tbody>\n",
       "</table>\n",
       "</div>"
      ],
      "text/plain": [
       "                                            name platform  year_of_release  \\\n",
       "0                                     Wii Sports      Wii             2006   \n",
       "1                              Super Mario Bros.      NES             1985   \n",
       "2                                 Mario Kart Wii      Wii             2008   \n",
       "3                              Wii Sports Resort      Wii             2009   \n",
       "4                       Pokemon Red/Pokemon Blue       GB             1996   \n",
       "5                                         Tetris       GB             1989   \n",
       "6                          New Super Mario Bros.       DS             2006   \n",
       "7                                       Wii Play      Wii             2006   \n",
       "8                      New Super Mario Bros. Wii      Wii             2009   \n",
       "9                                      Duck Hunt      NES             1984   \n",
       "10                                    Nintendogs       DS             2005   \n",
       "11                                 Mario Kart DS       DS             2005   \n",
       "12                   Pokemon Gold/Pokemon Silver       GB             1999   \n",
       "13                                       Wii Fit      Wii             2007   \n",
       "14                            Kinect Adventures!     X360             2010   \n",
       "15                                  Wii Fit Plus      Wii             2009   \n",
       "16                            Grand Theft Auto V      PS3             2013   \n",
       "17                 Grand Theft Auto: San Andreas      PS2             2004   \n",
       "18                             Super Mario World     SNES             1990   \n",
       "19  Brain Age: Train Your Brain in Minutes a Day       DS             2005   \n",
       "20                 Pokemon Diamond/Pokemon Pearl       DS             2006   \n",
       "21                              Super Mario Land       GB             1989   \n",
       "22                           Super Mario Bros. 3      NES             1988   \n",
       "23                            Grand Theft Auto V     X360             2013   \n",
       "24                   Grand Theft Auto: Vice City      PS2             2002   \n",
       "25                 Pokemon Ruby/Pokemon Sapphire      GBA             2002   \n",
       "26   Brain Age 2: More Training in Minutes a Day       DS             2005   \n",
       "27                   Pokemon Black/Pokemon White       DS             2010   \n",
       "28                        Gran Turismo 3: A-Spec      PS2             2001   \n",
       "29                Call of Duty: Modern Warfare 3     X360             2011   \n",
       "\n",
       "           genre  na_sales  eu_sales  jp_sales  other_sales  critic_score  \\\n",
       "0         Sports     41.36     28.96      3.77         8.45          76.0   \n",
       "1       Platform     29.08      3.58      6.81         0.77           NaN   \n",
       "2         Racing     15.68     12.76      3.79         3.29          82.0   \n",
       "3         Sports     15.61     10.93      3.28         2.95          80.0   \n",
       "4   Role-Playing     11.27      8.89     10.22         1.00           NaN   \n",
       "5         Puzzle     23.20      2.26      4.22         0.58           NaN   \n",
       "6       Platform     11.28      9.14      6.50         2.88          89.0   \n",
       "7           Misc     13.96      9.18      2.93         2.84          58.0   \n",
       "8       Platform     14.44      6.94      4.70         2.24          87.0   \n",
       "9        Shooter     26.93      0.63      0.28         0.47           NaN   \n",
       "10    Simulation      9.05     10.95      1.93         2.74           NaN   \n",
       "11        Racing      9.71      7.47      4.13         1.90          91.0   \n",
       "12  Role-Playing      9.00      6.18      7.20         0.71           NaN   \n",
       "13        Sports      8.92      8.03      3.60         2.15          80.0   \n",
       "14          Misc     15.00      4.89      0.24         1.69          61.0   \n",
       "15        Sports      9.01      8.49      2.53         1.77          80.0   \n",
       "16        Action      7.02      9.09      0.98         3.96          97.0   \n",
       "17        Action      9.43      0.40      0.41        10.57          95.0   \n",
       "18      Platform     12.78      3.75      3.54         0.55           NaN   \n",
       "19          Misc      4.74      9.20      4.16         2.04          77.0   \n",
       "20  Role-Playing      6.38      4.46      6.04         1.36           NaN   \n",
       "21      Platform     10.83      2.71      4.18         0.42           NaN   \n",
       "22      Platform      9.54      3.44      3.84         0.46           NaN   \n",
       "23        Action      9.66      5.14      0.06         1.41          97.0   \n",
       "24        Action      8.41      5.49      0.47         1.78          95.0   \n",
       "25  Role-Playing      6.06      3.90      5.38         0.50           NaN   \n",
       "26        Puzzle      3.43      5.35      5.32         1.18          77.0   \n",
       "27  Role-Playing      5.51      3.17      5.65         0.80           NaN   \n",
       "28        Racing      6.85      5.09      1.87         1.16          95.0   \n",
       "29       Shooter      9.04      4.24      0.13         1.32          88.0   \n",
       "\n",
       "    user_score rating  total_sales  \n",
       "0          8.0      E        82.54  \n",
       "1          NaN   E10+        40.24  \n",
       "2          8.3      E        35.52  \n",
       "3          8.0      E        32.77  \n",
       "4          NaN   E10+        31.38  \n",
       "5          NaN     EC        30.26  \n",
       "6          8.5      E        29.80  \n",
       "7          6.6      E        28.91  \n",
       "8          8.4      E        28.32  \n",
       "9          NaN      T        28.31  \n",
       "10         NaN      M        24.67  \n",
       "11         8.6      E        23.21  \n",
       "12         NaN   E10+        23.09  \n",
       "13         7.7      E        22.70  \n",
       "14         6.3      E        21.82  \n",
       "15         7.4      E        21.80  \n",
       "16         8.2      M        21.05  \n",
       "17         9.0      M        20.81  \n",
       "18         NaN   E10+        20.62  \n",
       "19         7.9      E        20.14  \n",
       "20         NaN   E10+        18.24  \n",
       "21         NaN   E10+        18.14  \n",
       "22         NaN   E10+        17.28  \n",
       "23         8.1      M        16.27  \n",
       "24         8.7      M        16.15  \n",
       "25         NaN   E10+        15.84  \n",
       "26         7.1      E        15.28  \n",
       "27         NaN   E10+        15.13  \n",
       "28         8.4      E        14.97  \n",
       "29         3.4      M        14.73  "
      ]
     },
     "execution_count": 23,
     "metadata": {},
     "output_type": "execute_result"
    }
   ],
   "source": [
    "df['total_sales'] = df[['na_sales', 'eu_sales', 'jp_sales', 'other_sales']].apply(sum, axis=1)\n",
    "df.head(30)"
   ]
  },
  {
   "cell_type": "markdown",
   "metadata": {},
   "source": [
    "### Conclusion Parcial"
   ]
  },
  {
   "cell_type": "markdown",
   "metadata": {},
   "source": [
    "Habian mas de 1 dato ausente en algunas filas, sobretodo en `critic_score`, `user_score` y `rating`  esto se debe a que recien se implemento la clasificación ESRB en el año 1994, es por ello que los juegos de los años anteriores a esa fecha carecian de estos datos y la industria de los videosjuegos no estaba tan desarrollada como para calificar los juegos dependiendo de la experiencia de los expertos y los usuarios.\n",
    "\n",
    "Se dejaron los NaN de las columnas `critic_score` y `user_score`, para ver si habia alguna relación entre ellos y la encontramos, todos estos valores corresponden a juegos de la compañia Nintendo, por alguna razón a la compañia no le interesa que sus juegos sea valorados por los criticos y los usuarios.\n",
    "\n",
    "El resto de los datos ausentes solo fueron errores humanos."
   ]
  },
  {
   "cell_type": "markdown",
   "metadata": {},
   "source": [
    "## Analisis de datos"
   ]
  },
  {
   "cell_type": "markdown",
   "metadata": {},
   "source": [
    "### Juegos"
   ]
  },
  {
   "cell_type": "markdown",
   "metadata": {},
   "source": [
    "Veamos cuantos juegos fueron lanzados por año"
   ]
  },
  {
   "cell_type": "code",
   "execution_count": 24,
   "metadata": {},
   "outputs": [
    {
     "data": {
      "text/plain": [
       "1980       9\n",
       "1984      14\n",
       "1985      14\n",
       "1988      15\n",
       "1987      16\n",
       "1990      16\n",
       "1989      17\n",
       "1983      17\n",
       "1986      21\n",
       "1982      36\n",
       "1991      41\n",
       "1992      43\n",
       "1981      46\n",
       "1993      60\n",
       "1994     121\n",
       "1995     219\n",
       "1996     263\n",
       "1997     289\n",
       "1999     338\n",
       "2000     350\n",
       "1998     379\n",
       "2001     482\n",
       "2016     502\n",
       "2013     544\n",
       "2014     581\n",
       "2015     606\n",
       "2012     653\n",
       "2004     762\n",
       "2003     775\n",
       "2002     829\n",
       "2005     939\n",
       "2006    1006\n",
       "2011    1136\n",
       "2007    1197\n",
       "2010    1255\n",
       "2009    1426\n",
       "2008    1427\n",
       "Name: year_of_release, dtype: Int64"
      ]
     },
     "execution_count": 24,
     "metadata": {},
     "output_type": "execute_result"
    }
   ],
   "source": [
    "df['year_of_release'].value_counts(sort=True, ascending=True)"
   ]
  },
  {
   "cell_type": "markdown",
   "metadata": {},
   "source": [
    "Grafiquemos esta tabla para verla mejor"
   ]
  },
  {
   "cell_type": "code",
   "execution_count": 25,
   "metadata": {},
   "outputs": [
    {
     "data": {
      "image/png": "[encoded data removed]",
      "text/plain": [
       "<Figure size 864x432 with 1 Axes>"
      ]
     },
     "metadata": {
      "needs_background": "light"
     },
     "output_type": "display_data"
    }
   ],
   "source": [
    "df.groupby('year_of_release')['total_sales'].count().plot(color='r')\n",
    "fig=plt.gcf()\n",
    "fig.set_size_inches(12,6)"
   ]
  },
  {
   "cell_type": "markdown",
   "metadata": {},
   "source": [
    "La cantidad de juegos lanzados fue aumentando con los años, hasta llegar al maximo que fue en los años 2008-2009 y a partir del 2010 ya fueron decayendo"
   ]
  },
  {
   "cell_type": "markdown",
   "metadata": {},
   "source": [
    "### Plataformas"
   ]
  },
  {
   "cell_type": "markdown",
   "metadata": {},
   "source": [
    "Veamos cuantos juegos se vendieron cada año por plataforma, esto nos va a dar una idea de cada cuentos años surge una nueva plataforma."
   ]
  },
  {
   "cell_type": "code",
   "execution_count": 26,
   "metadata": {},
   "outputs": [
    {
     "data": {
      "text/html": [
       "<div>\n",
       "<style scoped>\n",
       "    .dataframe tbody tr th:only-of-type {\n",
       "        vertical-align: middle;\n",
       "    }\n",
       "\n",
       "    .dataframe tbody tr th {\n",
       "        vertical-align: top;\n",
       "    }\n",
       "\n",
       "    .dataframe thead th {\n",
       "        text-align: right;\n",
       "    }\n",
       "</style>\n",
       "<table border=\"1\" class=\"dataframe\">\n",
       "  <thead>\n",
       "    <tr style=\"text-align: right;\">\n",
       "      <th></th>\n",
       "      <th>platform</th>\n",
       "      <th>year_of_release</th>\n",
       "      <th>total_sales</th>\n",
       "    </tr>\n",
       "  </thead>\n",
       "  <tbody>\n",
       "    <tr>\n",
       "      <th>0</th>\n",
       "      <td>2600</td>\n",
       "      <td>1980</td>\n",
       "      <td>11.38</td>\n",
       "    </tr>\n",
       "    <tr>\n",
       "      <th>1</th>\n",
       "      <td>2600</td>\n",
       "      <td>1981</td>\n",
       "      <td>35.68</td>\n",
       "    </tr>\n",
       "    <tr>\n",
       "      <th>2</th>\n",
       "      <td>2600</td>\n",
       "      <td>1982</td>\n",
       "      <td>28.88</td>\n",
       "    </tr>\n",
       "    <tr>\n",
       "      <th>3</th>\n",
       "      <td>2600</td>\n",
       "      <td>1983</td>\n",
       "      <td>5.84</td>\n",
       "    </tr>\n",
       "    <tr>\n",
       "      <th>4</th>\n",
       "      <td>2600</td>\n",
       "      <td>1984</td>\n",
       "      <td>0.27</td>\n",
       "    </tr>\n",
       "    <tr>\n",
       "      <th>...</th>\n",
       "      <td>...</td>\n",
       "      <td>...</td>\n",
       "      <td>...</td>\n",
       "    </tr>\n",
       "    <tr>\n",
       "      <th>233</th>\n",
       "      <td>XB</td>\n",
       "      <td>2008</td>\n",
       "      <td>0.18</td>\n",
       "    </tr>\n",
       "    <tr>\n",
       "      <th>234</th>\n",
       "      <td>XOne</td>\n",
       "      <td>2013</td>\n",
       "      <td>18.96</td>\n",
       "    </tr>\n",
       "    <tr>\n",
       "      <th>235</th>\n",
       "      <td>XOne</td>\n",
       "      <td>2014</td>\n",
       "      <td>54.07</td>\n",
       "    </tr>\n",
       "    <tr>\n",
       "      <th>236</th>\n",
       "      <td>XOne</td>\n",
       "      <td>2015</td>\n",
       "      <td>60.14</td>\n",
       "    </tr>\n",
       "    <tr>\n",
       "      <th>237</th>\n",
       "      <td>XOne</td>\n",
       "      <td>2016</td>\n",
       "      <td>26.15</td>\n",
       "    </tr>\n",
       "  </tbody>\n",
       "</table>\n",
       "<p>238 rows × 3 columns</p>\n",
       "</div>"
      ],
      "text/plain": [
       "    platform  year_of_release  total_sales\n",
       "0       2600             1980        11.38\n",
       "1       2600             1981        35.68\n",
       "2       2600             1982        28.88\n",
       "3       2600             1983         5.84\n",
       "4       2600             1984         0.27\n",
       "..       ...              ...          ...\n",
       "233       XB             2008         0.18\n",
       "234     XOne             2013        18.96\n",
       "235     XOne             2014        54.07\n",
       "236     XOne             2015        60.14\n",
       "237     XOne             2016        26.15\n",
       "\n",
       "[238 rows x 3 columns]"
      ]
     },
     "execution_count": 26,
     "metadata": {},
     "output_type": "execute_result"
    }
   ],
   "source": [
    "# Agrupamos las plataformas por los años de lanzamientos con las ventas totales de juegos\n",
    "grouped = df.groupby(['platform', 'year_of_release'])['total_sales'].sum().reset_index()\n",
    "grouped"
   ]
  },
  {
   "cell_type": "markdown",
   "metadata": {},
   "source": [
    "Creo una función que me muestre solo los años maximos y minimos de cada plataforma junto con las ventas totales de los mismos años, para tener una idea de cada cuantos años sale una nueva consola de videojuegos"
   ]
  },
  {
   "cell_type": "code",
   "execution_count": 27,
   "metadata": {},
   "outputs": [],
   "source": [
    "def get_sales_by_platform_and_year(df):\n",
    "    # Agrupar el dataframe por plataforma y año de lanzamiento y sumar las ventas totales de juegos\n",
    "    grouped = df.groupby(['platform', 'year_of_release'])['total_sales'].sum().reset_index()\n",
    "\n",
    "    # Crear un nuevo dataframe para almacenar los años máximos y mínimos de cada plataforma junto con las ventas totales de los mismos años\n",
    "    result = pd.DataFrame(columns=['platform', 'min_year', 'min_sales', 'max_year', 'max_sales'])\n",
    "\n",
    "    # Iterar por cada plataforma en el dataframe agrupado\n",
    "    for platform in grouped['platform'].unique():\n",
    "        # Filtrar el dataframe agrupado para obtener solo las filas correspondientes a la plataforma actual\n",
    "        platform_sales = grouped[grouped['platform'] == platform]\n",
    "\n",
    "        # Obtener el año mínimo y las ventas totales correspondientes\n",
    "        min_year = platform_sales.loc[platform_sales['total_sales'].idxmax(), 'year_of_release']\n",
    "        min_sales = platform_sales.loc[platform_sales['total_sales'].idxmax(), 'total_sales']\n",
    "\n",
    "        # Obtener el año máximo y las ventas totales correspondientes\n",
    "        max_year = platform_sales.loc[platform_sales['total_sales'].idxmin(), 'year_of_release']\n",
    "        max_sales = platform_sales.loc[platform_sales['total_sales'].idxmin(), 'total_sales']\n",
    "\n",
    "        # Añadir una nueva fila al dataframe de resultados con los años máximos y mínimos y las ventas totales correspondientes\n",
    "        result = result.append({'platform': platform, 'min_year': min_year, 'max_year': max_year, 'min_sales': min_sales,  'max_sales': max_sales}, ignore_index=True)\n",
    "\n",
    "    return result"
   ]
  },
  {
   "cell_type": "code",
   "execution_count": 28,
   "metadata": {
    "scrolled": false
   },
   "outputs": [
    {
     "data": {
      "text/html": [
       "<div>\n",
       "<style scoped>\n",
       "    .dataframe tbody tr th:only-of-type {\n",
       "        vertical-align: middle;\n",
       "    }\n",
       "\n",
       "    .dataframe tbody tr th {\n",
       "        vertical-align: top;\n",
       "    }\n",
       "\n",
       "    .dataframe thead th {\n",
       "        text-align: right;\n",
       "    }\n",
       "</style>\n",
       "<table border=\"1\" class=\"dataframe\">\n",
       "  <thead>\n",
       "    <tr style=\"text-align: right;\">\n",
       "      <th></th>\n",
       "      <th>platform</th>\n",
       "      <th>min_year</th>\n",
       "      <th>min_sales</th>\n",
       "      <th>max_year</th>\n",
       "      <th>max_sales</th>\n",
       "    </tr>\n",
       "  </thead>\n",
       "  <tbody>\n",
       "    <tr>\n",
       "      <th>0</th>\n",
       "      <td>2600</td>\n",
       "      <td>1981</td>\n",
       "      <td>35.68</td>\n",
       "      <td>1984</td>\n",
       "      <td>0.27</td>\n",
       "    </tr>\n",
       "    <tr>\n",
       "      <th>1</th>\n",
       "      <td>3DO</td>\n",
       "      <td>1995</td>\n",
       "      <td>0.08</td>\n",
       "      <td>1994</td>\n",
       "      <td>0.02</td>\n",
       "    </tr>\n",
       "    <tr>\n",
       "      <th>2</th>\n",
       "      <td>3DS</td>\n",
       "      <td>2011</td>\n",
       "      <td>63.20</td>\n",
       "      <td>2016</td>\n",
       "      <td>15.14</td>\n",
       "    </tr>\n",
       "    <tr>\n",
       "      <th>3</th>\n",
       "      <td>DC</td>\n",
       "      <td>2000</td>\n",
       "      <td>5.99</td>\n",
       "      <td>2007</td>\n",
       "      <td>0.02</td>\n",
       "    </tr>\n",
       "    <tr>\n",
       "      <th>4</th>\n",
       "      <td>DS</td>\n",
       "      <td>2007</td>\n",
       "      <td>146.94</td>\n",
       "      <td>1985</td>\n",
       "      <td>0.02</td>\n",
       "    </tr>\n",
       "    <tr>\n",
       "      <th>5</th>\n",
       "      <td>GB</td>\n",
       "      <td>1989</td>\n",
       "      <td>64.97</td>\n",
       "      <td>1988</td>\n",
       "      <td>1.43</td>\n",
       "    </tr>\n",
       "    <tr>\n",
       "      <th>6</th>\n",
       "      <td>GBA</td>\n",
       "      <td>2004</td>\n",
       "      <td>77.91</td>\n",
       "      <td>2000</td>\n",
       "      <td>0.07</td>\n",
       "    </tr>\n",
       "    <tr>\n",
       "      <th>7</th>\n",
       "      <td>GC</td>\n",
       "      <td>2002</td>\n",
       "      <td>51.81</td>\n",
       "      <td>2007</td>\n",
       "      <td>0.27</td>\n",
       "    </tr>\n",
       "    <tr>\n",
       "      <th>8</th>\n",
       "      <td>GEN</td>\n",
       "      <td>1992</td>\n",
       "      <td>12.64</td>\n",
       "      <td>1993</td>\n",
       "      <td>0.65</td>\n",
       "    </tr>\n",
       "    <tr>\n",
       "      <th>9</th>\n",
       "      <td>GG</td>\n",
       "      <td>1992</td>\n",
       "      <td>0.04</td>\n",
       "      <td>1992</td>\n",
       "      <td>0.04</td>\n",
       "    </tr>\n",
       "    <tr>\n",
       "      <th>10</th>\n",
       "      <td>N64</td>\n",
       "      <td>1999</td>\n",
       "      <td>57.87</td>\n",
       "      <td>2002</td>\n",
       "      <td>0.08</td>\n",
       "    </tr>\n",
       "    <tr>\n",
       "      <th>11</th>\n",
       "      <td>NES</td>\n",
       "      <td>1985</td>\n",
       "      <td>53.44</td>\n",
       "      <td>1994</td>\n",
       "      <td>0.11</td>\n",
       "    </tr>\n",
       "    <tr>\n",
       "      <th>12</th>\n",
       "      <td>NG</td>\n",
       "      <td>1994</td>\n",
       "      <td>0.80</td>\n",
       "      <td>1996</td>\n",
       "      <td>0.10</td>\n",
       "    </tr>\n",
       "    <tr>\n",
       "      <th>13</th>\n",
       "      <td>PC</td>\n",
       "      <td>2011</td>\n",
       "      <td>35.03</td>\n",
       "      <td>1988</td>\n",
       "      <td>0.03</td>\n",
       "    </tr>\n",
       "    <tr>\n",
       "      <th>14</th>\n",
       "      <td>PCFX</td>\n",
       "      <td>1996</td>\n",
       "      <td>0.03</td>\n",
       "      <td>1996</td>\n",
       "      <td>0.03</td>\n",
       "    </tr>\n",
       "    <tr>\n",
       "      <th>15</th>\n",
       "      <td>PS</td>\n",
       "      <td>1998</td>\n",
       "      <td>169.49</td>\n",
       "      <td>2003</td>\n",
       "      <td>2.07</td>\n",
       "    </tr>\n",
       "    <tr>\n",
       "      <th>16</th>\n",
       "      <td>PS2</td>\n",
       "      <td>2004</td>\n",
       "      <td>211.81</td>\n",
       "      <td>2011</td>\n",
       "      <td>0.45</td>\n",
       "    </tr>\n",
       "    <tr>\n",
       "      <th>17</th>\n",
       "      <td>PS3</td>\n",
       "      <td>2011</td>\n",
       "      <td>156.78</td>\n",
       "      <td>2016</td>\n",
       "      <td>3.60</td>\n",
       "    </tr>\n",
       "    <tr>\n",
       "      <th>18</th>\n",
       "      <td>PS4</td>\n",
       "      <td>2015</td>\n",
       "      <td>118.90</td>\n",
       "      <td>2013</td>\n",
       "      <td>25.99</td>\n",
       "    </tr>\n",
       "    <tr>\n",
       "      <th>19</th>\n",
       "      <td>PSP</td>\n",
       "      <td>2006</td>\n",
       "      <td>55.32</td>\n",
       "      <td>2015</td>\n",
       "      <td>0.12</td>\n",
       "    </tr>\n",
       "    <tr>\n",
       "      <th>20</th>\n",
       "      <td>PSV</td>\n",
       "      <td>2012</td>\n",
       "      <td>16.19</td>\n",
       "      <td>2016</td>\n",
       "      <td>4.25</td>\n",
       "    </tr>\n",
       "    <tr>\n",
       "      <th>21</th>\n",
       "      <td>SAT</td>\n",
       "      <td>1995</td>\n",
       "      <td>11.57</td>\n",
       "      <td>1999</td>\n",
       "      <td>0.09</td>\n",
       "    </tr>\n",
       "    <tr>\n",
       "      <th>22</th>\n",
       "      <td>SCD</td>\n",
       "      <td>1993</td>\n",
       "      <td>1.50</td>\n",
       "      <td>1994</td>\n",
       "      <td>0.36</td>\n",
       "    </tr>\n",
       "    <tr>\n",
       "      <th>23</th>\n",
       "      <td>SNES</td>\n",
       "      <td>1993</td>\n",
       "      <td>40.02</td>\n",
       "      <td>1998</td>\n",
       "      <td>0.22</td>\n",
       "    </tr>\n",
       "    <tr>\n",
       "      <th>24</th>\n",
       "      <td>TG16</td>\n",
       "      <td>1995</td>\n",
       "      <td>0.16</td>\n",
       "      <td>1995</td>\n",
       "      <td>0.16</td>\n",
       "    </tr>\n",
       "    <tr>\n",
       "      <th>25</th>\n",
       "      <td>WS</td>\n",
       "      <td>2000</td>\n",
       "      <td>0.68</td>\n",
       "      <td>2001</td>\n",
       "      <td>0.28</td>\n",
       "    </tr>\n",
       "    <tr>\n",
       "      <th>26</th>\n",
       "      <td>Wii</td>\n",
       "      <td>2009</td>\n",
       "      <td>206.97</td>\n",
       "      <td>2016</td>\n",
       "      <td>0.18</td>\n",
       "    </tr>\n",
       "    <tr>\n",
       "      <th>27</th>\n",
       "      <td>WiiU</td>\n",
       "      <td>2014</td>\n",
       "      <td>22.03</td>\n",
       "      <td>2016</td>\n",
       "      <td>4.60</td>\n",
       "    </tr>\n",
       "    <tr>\n",
       "      <th>28</th>\n",
       "      <td>X360</td>\n",
       "      <td>2010</td>\n",
       "      <td>170.03</td>\n",
       "      <td>2016</td>\n",
       "      <td>1.52</td>\n",
       "    </tr>\n",
       "    <tr>\n",
       "      <th>29</th>\n",
       "      <td>XB</td>\n",
       "      <td>2004</td>\n",
       "      <td>65.42</td>\n",
       "      <td>2008</td>\n",
       "      <td>0.18</td>\n",
       "    </tr>\n",
       "    <tr>\n",
       "      <th>30</th>\n",
       "      <td>XOne</td>\n",
       "      <td>2015</td>\n",
       "      <td>60.14</td>\n",
       "      <td>2013</td>\n",
       "      <td>18.96</td>\n",
       "    </tr>\n",
       "  </tbody>\n",
       "</table>\n",
       "</div>"
      ],
      "text/plain": [
       "   platform min_year  min_sales max_year  max_sales\n",
       "0      2600     1981      35.68     1984       0.27\n",
       "1       3DO     1995       0.08     1994       0.02\n",
       "2       3DS     2011      63.20     2016      15.14\n",
       "3        DC     2000       5.99     2007       0.02\n",
       "4        DS     2007     146.94     1985       0.02\n",
       "5        GB     1989      64.97     1988       1.43\n",
       "6       GBA     2004      77.91     2000       0.07\n",
       "7        GC     2002      51.81     2007       0.27\n",
       "8       GEN     1992      12.64     1993       0.65\n",
       "9        GG     1992       0.04     1992       0.04\n",
       "10      N64     1999      57.87     2002       0.08\n",
       "11      NES     1985      53.44     1994       0.11\n",
       "12       NG     1994       0.80     1996       0.10\n",
       "13       PC     2011      35.03     1988       0.03\n",
       "14     PCFX     1996       0.03     1996       0.03\n",
       "15       PS     1998     169.49     2003       2.07\n",
       "16      PS2     2004     211.81     2011       0.45\n",
       "17      PS3     2011     156.78     2016       3.60\n",
       "18      PS4     2015     118.90     2013      25.99\n",
       "19      PSP     2006      55.32     2015       0.12\n",
       "20      PSV     2012      16.19     2016       4.25\n",
       "21      SAT     1995      11.57     1999       0.09\n",
       "22      SCD     1993       1.50     1994       0.36\n",
       "23     SNES     1993      40.02     1998       0.22\n",
       "24     TG16     1995       0.16     1995       0.16\n",
       "25       WS     2000       0.68     2001       0.28\n",
       "26      Wii     2009     206.97     2016       0.18\n",
       "27     WiiU     2014      22.03     2016       4.60\n",
       "28     X360     2010     170.03     2016       1.52\n",
       "29       XB     2004      65.42     2008       0.18\n",
       "30     XOne     2015      60.14     2013      18.96"
      ]
     },
     "execution_count": 28,
     "metadata": {},
     "output_type": "execute_result"
    }
   ],
   "source": [
    "result = get_sales_by_platform_and_year(df)\n",
    "result"
   ]
  },
  {
   "cell_type": "code",
   "execution_count": 29,
   "metadata": {},
   "outputs": [
    {
     "data": {
      "image/png": "[encoded data removed]",
      "text/plain": [
       "<Figure size 1080x720 with 1 Axes>"
      ]
     },
     "metadata": {
      "needs_background": "light"
     },
     "output_type": "display_data"
    }
   ],
   "source": [
    "# Crear una figura\n",
    "fig, ax = plt.subplots(figsize=(15, 10))\n",
    "\n",
    "# Iterar a través de cada plataforma y añadir una línea para cada una\n",
    "for i, row in result.iterrows():\n",
    "    # Obtener los datos de años mínimo y máximo para la plataforma actual\n",
    "    min_year = row['min_year']\n",
    "    max_year = row['max_year']\n",
    "    \n",
    "    # Añadir una línea al gráfico para la plataforma actual\n",
    "    ax.plot([min_year, max_year], [i, i], '-o', label=row['platform'])\n",
    "\n",
    "# Configurar el gráfico\n",
    "ax.set_xlabel('Años')\n",
    "ax.set_ylabel('Plataformas')\n",
    "ax.set_title('Años mínimo y máximo de cada plataforma')\n",
    "ax.set_yticks(range(len(result)))\n",
    "ax.set_yticklabels(result['platform'])\n",
    "ax.legend(loc='center left', bbox_to_anchor=(1.0, 0.5))\n",
    "\n",
    "# Mostrar el gráfico\n",
    "plt.show()\n"
   ]
  },
  {
   "cell_type": "markdown",
   "metadata": {},
   "source": [
    "Las plataformas con mas años en el mercado son la DS y la PC, pero la PC no solo se usa para jugar sino tambien para trabajar, y ademas estan tomando en cuenta las diferentes PC que salieron al mercado como si fuera una sola. Y la DS salio en el 2004 hay un error en los datos\n",
    "\n",
    "Y las que tienen menos años son GG, PCFX y TG16"
   ]
  },
  {
   "cell_type": "markdown",
   "metadata": {},
   "source": [
    "Elijo las plataformas con mas ventas"
   ]
  },
  {
   "cell_type": "code",
   "execution_count": 30,
   "metadata": {},
   "outputs": [
    {
     "data": {
      "text/plain": [
       "['PS2', 'X360', 'PS3', 'Wii', 'DS', 'PS', 'PS4']"
      ]
     },
     "execution_count": 30,
     "metadata": {},
     "output_type": "execute_result"
    }
   ],
   "source": [
    "top_platforms = grouped.groupby(\"platform\").sum()[\"total_sales\"].sort_values(ascending=False)[:7].index.tolist()\n",
    "top_platforms"
   ]
  },
  {
   "cell_type": "code",
   "execution_count": 31,
   "metadata": {},
   "outputs": [],
   "source": [
    "# Filtrar los datos para incluir solo las plataformas más vendidas\n",
    "filtered_data = grouped[grouped[\"platform\"].isin(top_platforms)]"
   ]
  },
  {
   "cell_type": "code",
   "execution_count": 32,
   "metadata": {},
   "outputs": [
    {
     "data": {
      "image/png": "[encoded data removed]",
      "text/plain": [
       "<Figure size 720x432 with 1 Axes>"
      ]
     },
     "metadata": {
      "needs_background": "light"
     },
     "output_type": "display_data"
    }
   ],
   "source": [
    "fig, ax1 = plt.subplots(figsize=(10, 6))\n",
    "\n",
    "for platform in top_platforms:\n",
    "    platform_data = filtered_data[filtered_data[\"platform\"] == platform]\n",
    "    ax1.plot(platform_data[\"year_of_release\"], platform_data[\"total_sales\"], label=platform)\n",
    "\n",
    "# Configurar el primer eje y para mostrar las ventas totales\n",
    "ax1.set_xlabel(\"Año\")\n",
    "ax1.set_ylabel(\"Ventas totales\")\n",
    "ax1.set_title(\"Ventas de las 7 plataformas más vendidas\")\n",
    "\n",
    "# Configurar la leyenda\n",
    "ax1.legend()\n",
    "\n",
    "plt.show()"
   ]
  },
  {
   "cell_type": "markdown",
   "metadata": {},
   "source": [
    "Aqui vemos que las diferentes consolas salieron en diferentes años y a medida que iban bajando las ventas de las consolas aumentaba las ventas de una nueva consula en el mercado, maso menos cada 5 años las consolas se van renovando, podes observar que la ultima consola que salio al mercado es PS4 y tuvo mayor venta que el resto de las consolas del mismo año.\n",
    "\n",
    "La plataforma DS saio en el 2004 la linea que se observa es un error de los datos, que ya se vio anteriormente"
   ]
  },
  {
   "cell_type": "markdown",
   "metadata": {},
   "source": [
    "Hacemos una tabla que nos muestre el número de ventas totales de cada plataforma"
   ]
  },
  {
   "cell_type": "code",
   "execution_count": 33,
   "metadata": {
    "scrolled": false
   },
   "outputs": [
    {
     "data": {
      "text/plain": [
       "platform\n",
       "PS2     1233.56\n",
       "X360     961.24\n",
       "PS3      931.34\n",
       "Wii      891.18\n",
       "DS       802.78\n",
       "PS       727.58\n",
       "PS4      314.14\n",
       "GBA      312.88\n",
       "PSP      289.53\n",
       "3DS      257.81\n",
       "PC       255.76\n",
       "GB       254.43\n",
       "XB       251.57\n",
       "NES      251.05\n",
       "N64      218.01\n",
       "SNES     200.04\n",
       "GC       196.73\n",
       "XOne     159.32\n",
       "2600      86.48\n",
       "WiiU      82.19\n",
       "PSV       53.81\n",
       "SAT       33.59\n",
       "GEN       28.35\n",
       "DC        15.95\n",
       "SCD        1.86\n",
       "NG         1.44\n",
       "WS         1.42\n",
       "TG16       0.16\n",
       "3DO        0.10\n",
       "GG         0.04\n",
       "PCFX       0.03\n",
       "Name: total_sales, dtype: float64"
      ]
     },
     "execution_count": 33,
     "metadata": {},
     "output_type": "execute_result"
    }
   ],
   "source": [
    "platform_sales2 = df.groupby('platform')['total_sales'].sum().sort_values(ascending=False)\n",
    "platform_sales2"
   ]
  },
  {
   "cell_type": "markdown",
   "metadata": {},
   "source": [
    "Lo graficamos para tener una idea visual"
   ]
  },
  {
   "cell_type": "code",
   "execution_count": 34,
   "metadata": {},
   "outputs": [
    {
     "data": {
      "image/png": "[encoded data removed]",
      "text/plain": [
       "<Figure size 1440x432 with 1 Axes>"
      ]
     },
     "metadata": {
      "needs_background": "light"
     },
     "output_type": "display_data"
    }
   ],
   "source": [
    "# Ordenar las plataformas por ventas totales en orden descendente\n",
    "platform_sales2 = platform_sales2.sort_values(ascending=False)\n",
    "\n",
    "# Tamaño del grafico\n",
    "plt.figure(figsize=(20, 6))\n",
    "\n",
    "# Grafico de barras de las ventas de plataformas\n",
    "plt.bar(platform_sales2.index, platform_sales2.values)\n",
    "\n",
    "# Agregar etiquetas y título\n",
    "plt.xlabel('Platform')\n",
    "plt.ylabel('Total Sales (millions of units)')\n",
    "plt.title('Total Sales by Platform')\n",
    "\n",
    "plt.show()"
   ]
  },
  {
   "cell_type": "markdown",
   "metadata": {},
   "source": [
    "Vemos que las plataformas lideres son PS2, X360, PS3, Wii, DS, PS y PS4, por el otro lado las de menos ventas fueron PCFX, GG, 3DO, TG16, WS, NG. Esto se debe a que son las plataformas mas antigüas cuando todavia no estaban muy desarrolladas las tecnologias de video juegos y no eran muy populares. Podemos observar que a medida que fueron evolucionando las tecnologias tambien lo hicieron las nuevas generaciones de plataformas."
   ]
  },
  {
   "cell_type": "markdown",
   "metadata": {},
   "source": [
    "Creamos un diagrama de caja para las ventas globales de todos los juegos, desglosados por plataforma"
   ]
  },
  {
   "cell_type": "code",
   "execution_count": 35,
   "metadata": {},
   "outputs": [
    {
     "data": {
      "text/html": [
       "<div>\n",
       "<style scoped>\n",
       "    .dataframe tbody tr th:only-of-type {\n",
       "        vertical-align: middle;\n",
       "    }\n",
       "\n",
       "    .dataframe tbody tr th {\n",
       "        vertical-align: top;\n",
       "    }\n",
       "\n",
       "    .dataframe thead th {\n",
       "        text-align: right;\n",
       "    }\n",
       "</style>\n",
       "<table border=\"1\" class=\"dataframe\">\n",
       "  <thead>\n",
       "    <tr style=\"text-align: right;\">\n",
       "      <th></th>\n",
       "      <th>platform</th>\n",
       "      <th>juegos</th>\n",
       "    </tr>\n",
       "  </thead>\n",
       "  <tbody>\n",
       "    <tr>\n",
       "      <th>0</th>\n",
       "      <td>2600</td>\n",
       "      <td>[Pac-Man, Pitfall!, Asteroids, Missile Command...</td>\n",
       "    </tr>\n",
       "    <tr>\n",
       "      <th>1</th>\n",
       "      <td>3DO</td>\n",
       "      <td>[Policenauts, Bust-A-Move, Sotsugyou II: Neo G...</td>\n",
       "    </tr>\n",
       "    <tr>\n",
       "      <th>2</th>\n",
       "      <td>3DS</td>\n",
       "      <td>[Pokemon X/Pokemon Y, Mario Kart 7, Pokemon Om...</td>\n",
       "    </tr>\n",
       "    <tr>\n",
       "      <th>3</th>\n",
       "      <td>DC</td>\n",
       "      <td>[Sonic Adventure, Crazy Taxi, NFL 2K, Shenmue,...</td>\n",
       "    </tr>\n",
       "    <tr>\n",
       "      <th>4</th>\n",
       "      <td>DS</td>\n",
       "      <td>[New Super Mario Bros., Nintendogs, Mario Kart...</td>\n",
       "    </tr>\n",
       "  </tbody>\n",
       "</table>\n",
       "</div>"
      ],
      "text/plain": [
       "  platform                                             juegos\n",
       "0     2600  [Pac-Man, Pitfall!, Asteroids, Missile Command...\n",
       "1      3DO  [Policenauts, Bust-A-Move, Sotsugyou II: Neo G...\n",
       "2      3DS  [Pokemon X/Pokemon Y, Mario Kart 7, Pokemon Om...\n",
       "3       DC  [Sonic Adventure, Crazy Taxi, NFL 2K, Shenmue,...\n",
       "4       DS  [New Super Mario Bros., Nintendogs, Mario Kart..."
      ]
     },
     "execution_count": 35,
     "metadata": {},
     "output_type": "execute_result"
    }
   ],
   "source": [
    "df_plataformas = df.groupby('platform')['name'].apply(list).reset_index(name='juegos')\n",
    "df_plataformas.head()"
   ]
  },
  {
   "cell_type": "markdown",
   "metadata": {},
   "source": [
    " Calculamos las ventas globales por plataforma"
   ]
  },
  {
   "cell_type": "code",
   "execution_count": 36,
   "metadata": {},
   "outputs": [
    {
     "data": {
      "text/html": [
       "<div>\n",
       "<style scoped>\n",
       "    .dataframe tbody tr th:only-of-type {\n",
       "        vertical-align: middle;\n",
       "    }\n",
       "\n",
       "    .dataframe tbody tr th {\n",
       "        vertical-align: top;\n",
       "    }\n",
       "\n",
       "    .dataframe thead th {\n",
       "        text-align: right;\n",
       "    }\n",
       "</style>\n",
       "<table border=\"1\" class=\"dataframe\">\n",
       "  <thead>\n",
       "    <tr style=\"text-align: right;\">\n",
       "      <th></th>\n",
       "      <th>platform</th>\n",
       "      <th>juegos</th>\n",
       "      <th>total_sales</th>\n",
       "    </tr>\n",
       "  </thead>\n",
       "  <tbody>\n",
       "    <tr>\n",
       "      <th>0</th>\n",
       "      <td>2600</td>\n",
       "      <td>[Pac-Man, Pitfall!, Asteroids, Missile Command...</td>\n",
       "      <td>86.48</td>\n",
       "    </tr>\n",
       "    <tr>\n",
       "      <th>1</th>\n",
       "      <td>3DO</td>\n",
       "      <td>[Policenauts, Bust-A-Move, Sotsugyou II: Neo G...</td>\n",
       "      <td>0.10</td>\n",
       "    </tr>\n",
       "    <tr>\n",
       "      <th>2</th>\n",
       "      <td>3DS</td>\n",
       "      <td>[Pokemon X/Pokemon Y, Mario Kart 7, Pokemon Om...</td>\n",
       "      <td>257.81</td>\n",
       "    </tr>\n",
       "    <tr>\n",
       "      <th>3</th>\n",
       "      <td>DC</td>\n",
       "      <td>[Sonic Adventure, Crazy Taxi, NFL 2K, Shenmue,...</td>\n",
       "      <td>15.95</td>\n",
       "    </tr>\n",
       "    <tr>\n",
       "      <th>4</th>\n",
       "      <td>DS</td>\n",
       "      <td>[New Super Mario Bros., Nintendogs, Mario Kart...</td>\n",
       "      <td>802.78</td>\n",
       "    </tr>\n",
       "  </tbody>\n",
       "</table>\n",
       "</div>"
      ],
      "text/plain": [
       "  platform                                             juegos  total_sales\n",
       "0     2600  [Pac-Man, Pitfall!, Asteroids, Missile Command...        86.48\n",
       "1      3DO  [Policenauts, Bust-A-Move, Sotsugyou II: Neo G...         0.10\n",
       "2      3DS  [Pokemon X/Pokemon Y, Mario Kart 7, Pokemon Om...       257.81\n",
       "3       DC  [Sonic Adventure, Crazy Taxi, NFL 2K, Shenmue,...        15.95\n",
       "4       DS  [New Super Mario Bros., Nintendogs, Mario Kart...       802.78"
      ]
     },
     "execution_count": 36,
     "metadata": {},
     "output_type": "execute_result"
    }
   ],
   "source": [
    "# Calculamos las ventas globales por plataforma\n",
    "ventas_globales = df.groupby('platform')[['na_sales', 'eu_sales', 'jp_sales', 'other_sales']].sum()\n",
    "ventas_globales['total_sales'] = ventas_globales.sum(axis=1)\n",
    "\n",
    "# Unimos esta información con el dataframe df_plataformas\n",
    "df_plataformas_con_ventas = pd.merge(df_plataformas, ventas_globales['total_sales'], on='platform')\n",
    "df_plataformas_con_ventas.head()"
   ]
  },
  {
   "cell_type": "code",
   "execution_count": 37,
   "metadata": {},
   "outputs": [
    {
     "data": {
      "image/png": "[encoded data removed]",
      "text/plain": [
       "<Figure size 1152x720 with 1 Axes>"
      ]
     },
     "metadata": {
      "needs_background": "light"
     },
     "output_type": "display_data"
    }
   ],
   "source": [
    "# Crear un diagrama de caja para las ventas globales desglosadas por plataforma\n",
    "plt.figure(figsize=(16,10))\n",
    "sns.boxplot(x='platform', y='total_sales', data=df, order=df_plataformas_con_ventas['platform'], showfliers=False)\n",
    "plt.xticks(rotation=90)\n",
    "plt.xlabel('Plataforma')\n",
    "plt.ylabel('Ventas Globales (en millones de unidades)')\n",
    "plt.title('Ventas Globales de Juegos por Plataforma')\n",
    "plt.show()"
   ]
  },
  {
   "cell_type": "markdown",
   "metadata": {},
   "source": [
    "Las plataformas con mayor venta de videojuegos  (GB, GEN y NES) son aquellas que tambien poseen una mayor cantidad de valores atipicos (tuve que eliminarlos de la grafica porque sino me era imposible verla), esto quiere decir que no son muy confiables estos datos.\n",
    "\n",
    "Por otro lado las plataformas, XONE, X360, WiiU, Wii, 2600, SNES, PC, PS, PS2, PS3, PS4 y N64, se aprecian bien y estan dentro de un mismo rango de valores superiores, por lo que se podria creer que las ventas promedios de las diferentes plataformas son similares\n",
    "\n",
    "Y las plataformas con menos ventas de videojuegos fueron, 3DO, 3DS, DS, NG, PCFX, PSP, PSV, SAT, SCD, TG16, WS y GG"
   ]
  },
  {
   "cell_type": "markdown",
   "metadata": {},
   "source": [
    "### Reseñas"
   ]
  },
  {
   "cell_type": "markdown",
   "metadata": {},
   "source": [
    "Veremos cómo las reseñas de usuarios y profesionales afectan las ventas de una plataforma popular en este caso PS2. Crearemos gráficos de dispersión y calcularemos la correlación entre las reseñas y las ventas. "
   ]
  },
  {
   "cell_type": "markdown",
   "metadata": {},
   "source": [
    "Grafico de disperción para las reseñas de los expertos"
   ]
  },
  {
   "cell_type": "code",
   "execution_count": 38,
   "metadata": {
    "scrolled": false
   },
   "outputs": [
    {
     "data": {
      "image/png": "[encoded data removed]",
      "text/plain": [
       "<Figure size 864x576 with 1 Axes>"
      ]
     },
     "metadata": {
      "needs_background": "light"
     },
     "output_type": "display_data"
    }
   ],
   "source": [
    "# Seleccionar solo los datos de PS2\n",
    "ps2_data = df[df['platform'] == 'PS2']\n",
    "\n",
    "fig, ax = plt.subplots(figsize=(12, 8))\n",
    "\n",
    "# Crear el gráfico de dispersión\n",
    "plt.scatter(ps2_data['critic_score'], ps2_data['total_sales'], alpha=0.5)\n",
    "\n",
    "# Agregar títulos y etiquetas de ejes\n",
    "plt.title('Total Sales vs Critic Score for PS2')\n",
    "plt.xlabel('Critic Score')\n",
    "plt.ylabel('Total Sales (millions of units)')\n",
    "\n",
    "# Mostrar el gráfico\n",
    "plt.show()"
   ]
  },
  {
   "cell_type": "code",
   "execution_count": 39,
   "metadata": {
    "scrolled": true
   },
   "outputs": [
    {
     "name": "stdout",
     "output_type": "stream",
     "text": [
      "La correlación entre critic_score and total_sales para los juegos de  PS2 es 0.39253647544509\n"
     ]
    }
   ],
   "source": [
    "correlation = ps2_data['critic_score'].corr(ps2_data['total_sales'])\n",
    "print(f\"La correlación entre critic_score and total_sales para los juegos de  PS2 es {correlation}\")"
   ]
  },
  {
   "cell_type": "markdown",
   "metadata": {},
   "source": [
    " En el grafico los `critic_score` parece tener una forma exponencial a mejor puntaje muchas mas ventas y por la correlación sabemos que son directamente propocionales"
   ]
  },
  {
   "cell_type": "markdown",
   "metadata": {},
   "source": [
    "Grafico de disperción para las reseñas de los usuarios"
   ]
  },
  {
   "cell_type": "code",
   "execution_count": 40,
   "metadata": {},
   "outputs": [
    {
     "data": {
      "image/png": "[encoded data removed]",
      "text/plain": [
       "<Figure size 864x576 with 1 Axes>"
      ]
     },
     "metadata": {
      "needs_background": "light"
     },
     "output_type": "display_data"
    }
   ],
   "source": [
    "# Seleccionar solo los datos de PS2\n",
    "ps2_data = df[df['platform'] == 'PS2']\n",
    "\n",
    "fig, ax = plt.subplots(figsize=(12, 8))\n",
    "\n",
    "# Crear el gráfico de dispersión\n",
    "plt.scatter(ps2_data['user_score'], ps2_data['total_sales'], alpha=0.5)\n",
    "\n",
    "# Agregar títulos y etiquetas de ejes\n",
    "plt.title('Total Sales vs User Score for PS2')\n",
    "plt.xlabel('User Score')\n",
    "plt.ylabel('Total Sales (millions of units)')\n",
    "\n",
    "# Mostrar el gráfico\n",
    "plt.show()"
   ]
  },
  {
   "cell_type": "code",
   "execution_count": 41,
   "metadata": {},
   "outputs": [
    {
     "name": "stdout",
     "output_type": "stream",
     "text": [
      "La correlación entre user_score and total_sales para los juegos de  PS2 es 0.1750550277038374\n"
     ]
    }
   ],
   "source": [
    "correlation = ps2_data['user_score'].corr(ps2_data['total_sales'])\n",
    "print(f\"La correlación entre user_score and total_sales para los juegos de  PS2 es {correlation}\")"
   ]
  },
  {
   "cell_type": "markdown",
   "metadata": {},
   "source": [
    " En el grafico los `user_score` parece tener tambien una forma exponencial, pero los mayores puntajes se encuentran entre 8.5 y 9 y por la correlación sabemos que son directamente propocionales"
   ]
  },
  {
   "cell_type": "markdown",
   "metadata": {},
   "source": [
    "### Comparacion de un mismo video juego en diferentes plataformas"
   ]
  },
  {
   "cell_type": "markdown",
   "metadata": {},
   "source": [
    "Agrupare los diferentes juegos por las plataformas en las que se puede jugar para podes comparar como influyen los juegos en las plataformas"
   ]
  },
  {
   "cell_type": "code",
   "execution_count": 42,
   "metadata": {
    "scrolled": false
   },
   "outputs": [
    {
     "name": "stderr",
     "output_type": "stream",
     "text": [
      "/opt/conda/lib/python3.9/site-packages/pandas/core/indexing.py:1676: SettingWithCopyWarning: \n",
      "A value is trying to be set on a copy of a slice from a DataFrame.\n",
      "Try using .loc[row_indexer,col_indexer] = value instead\n",
      "\n",
      "See the caveats in the documentation: https://pandas.pydata.org/pandas-docs/stable/user_guide/indexing.html#returning-a-view-versus-a-copy\n",
      "  self._setitem_single_column(ilocs[0], value, pi)\n"
     ]
    },
    {
     "data": {
      "text/html": [
       "<div>\n",
       "<style scoped>\n",
       "    .dataframe tbody tr th:only-of-type {\n",
       "        vertical-align: middle;\n",
       "    }\n",
       "\n",
       "    .dataframe tbody tr th {\n",
       "        vertical-align: top;\n",
       "    }\n",
       "\n",
       "    .dataframe thead th {\n",
       "        text-align: right;\n",
       "    }\n",
       "</style>\n",
       "<table border=\"1\" class=\"dataframe\">\n",
       "  <thead>\n",
       "    <tr style=\"text-align: right;\">\n",
       "      <th></th>\n",
       "      <th>juegos</th>\n",
       "      <th>platform</th>\n",
       "    </tr>\n",
       "  </thead>\n",
       "  <tbody>\n",
       "    <tr>\n",
       "      <th>0</th>\n",
       "      <td>(Call of Duty: Black Ops 3, Grand Theft Auto V...</td>\n",
       "      <td>XOne</td>\n",
       "    </tr>\n",
       "    <tr>\n",
       "      <th>1</th>\n",
       "      <td>(Call of Duty: Black Ops 3, Grand Theft Auto V...</td>\n",
       "      <td>PS4</td>\n",
       "    </tr>\n",
       "    <tr>\n",
       "      <th>2</th>\n",
       "      <td>(Final Fantasy, Digimon Adventure: Anode Tamer...</td>\n",
       "      <td>WS</td>\n",
       "    </tr>\n",
       "    <tr>\n",
       "      <th>3</th>\n",
       "      <td>(Gran Turismo, Final Fantasy VII, Gran Turismo...</td>\n",
       "      <td>PS</td>\n",
       "    </tr>\n",
       "    <tr>\n",
       "      <th>4</th>\n",
       "      <td>(Grand Theft Auto V, Call of Duty: Black Ops I...</td>\n",
       "      <td>PS3</td>\n",
       "    </tr>\n",
       "    <tr>\n",
       "      <th>5</th>\n",
       "      <td>(Grand Theft Auto: Liberty City Stories, Monst...</td>\n",
       "      <td>PSP</td>\n",
       "    </tr>\n",
       "    <tr>\n",
       "      <th>6</th>\n",
       "      <td>(Grand Theft Auto: San Andreas, Grand Theft Au...</td>\n",
       "      <td>PS2</td>\n",
       "    </tr>\n",
       "    <tr>\n",
       "      <th>7</th>\n",
       "      <td>(Halo 2, Halo: Combat Evolved, Tom Clancy's Sp...</td>\n",
       "      <td>XB</td>\n",
       "    </tr>\n",
       "    <tr>\n",
       "      <th>8</th>\n",
       "      <td>(Kinect Adventures!, Grand Theft Auto V, Call ...</td>\n",
       "      <td>X360</td>\n",
       "    </tr>\n",
       "    <tr>\n",
       "      <th>9</th>\n",
       "      <td>(Mario Kart 8, New Super Mario Bros. U, Super ...</td>\n",
       "      <td>WiiU</td>\n",
       "    </tr>\n",
       "    <tr>\n",
       "      <th>10</th>\n",
       "      <td>(Minecraft, Uncharted: Golden Abyss, Call of D...</td>\n",
       "      <td>PSV</td>\n",
       "    </tr>\n",
       "    <tr>\n",
       "      <th>11</th>\n",
       "      <td>(New Super Mario Bros., Nintendogs, Mario Kart...</td>\n",
       "      <td>DS</td>\n",
       "    </tr>\n",
       "    <tr>\n",
       "      <th>12</th>\n",
       "      <td>(Pac-Man, Pitfall!, Asteroids, Missile Command...</td>\n",
       "      <td>2600</td>\n",
       "    </tr>\n",
       "    <tr>\n",
       "      <th>13</th>\n",
       "      <td>(Pokemon Red/Pokemon Blue, Tetris, Pokemon Gol...</td>\n",
       "      <td>GB</td>\n",
       "    </tr>\n",
       "    <tr>\n",
       "      <th>14</th>\n",
       "      <td>(Pokemon Ruby/Pokemon Sapphire, Pokemon FireRe...</td>\n",
       "      <td>GBA</td>\n",
       "    </tr>\n",
       "    <tr>\n",
       "      <th>15</th>\n",
       "      <td>(Pokemon X/Pokemon Y, Mario Kart 7, Pokemon Om...</td>\n",
       "      <td>3DS</td>\n",
       "    </tr>\n",
       "    <tr>\n",
       "      <th>16</th>\n",
       "      <td>(Samurai Shodown II, The King of Fighters '95 ...</td>\n",
       "      <td>NG</td>\n",
       "    </tr>\n",
       "    <tr>\n",
       "      <th>17</th>\n",
       "      <td>(Sonic Adventure, Crazy Taxi, NFL 2K, Shenmue,...</td>\n",
       "      <td>DC</td>\n",
       "    </tr>\n",
       "    <tr>\n",
       "      <th>18</th>\n",
       "      <td>(Sonic the Hedgehog 2, Sonic the Hedgehog, Mor...</td>\n",
       "      <td>GEN</td>\n",
       "    </tr>\n",
       "    <tr>\n",
       "      <th>19</th>\n",
       "      <td>(Super Mario 64, Mario Kart 64, GoldenEye 007,...</td>\n",
       "      <td>N64</td>\n",
       "    </tr>\n",
       "    <tr>\n",
       "      <th>20</th>\n",
       "      <td>(Super Mario Bros., Duck Hunt, Super Mario Bro...</td>\n",
       "      <td>NES</td>\n",
       "    </tr>\n",
       "    <tr>\n",
       "      <th>21</th>\n",
       "      <td>(Super Mario World, Super Mario All-Stars, Don...</td>\n",
       "      <td>SNES</td>\n",
       "    </tr>\n",
       "    <tr>\n",
       "      <th>22</th>\n",
       "      <td>(Super Smash Bros. Melee, Mario Kart: Double D...</td>\n",
       "      <td>GC</td>\n",
       "    </tr>\n",
       "    <tr>\n",
       "      <th>23</th>\n",
       "      <td>(The Sims 3, World of Warcraft, Diablo III, Mi...</td>\n",
       "      <td>PC</td>\n",
       "    </tr>\n",
       "    <tr>\n",
       "      <th>24</th>\n",
       "      <td>(Virtua Fighter 2, Sega Rally Championship, Vi...</td>\n",
       "      <td>SAT</td>\n",
       "    </tr>\n",
       "    <tr>\n",
       "      <th>25</th>\n",
       "      <td>(Wii Sports, Mario Kart Wii, Wii Sports Resort...</td>\n",
       "      <td>Wii</td>\n",
       "    </tr>\n",
       "  </tbody>\n",
       "</table>\n",
       "</div>"
      ],
      "text/plain": [
       "                                               juegos platform\n",
       "0   (Call of Duty: Black Ops 3, Grand Theft Auto V...     XOne\n",
       "1   (Call of Duty: Black Ops 3, Grand Theft Auto V...      PS4\n",
       "2   (Final Fantasy, Digimon Adventure: Anode Tamer...       WS\n",
       "3   (Gran Turismo, Final Fantasy VII, Gran Turismo...       PS\n",
       "4   (Grand Theft Auto V, Call of Duty: Black Ops I...      PS3\n",
       "5   (Grand Theft Auto: Liberty City Stories, Monst...      PSP\n",
       "6   (Grand Theft Auto: San Andreas, Grand Theft Au...      PS2\n",
       "7   (Halo 2, Halo: Combat Evolved, Tom Clancy's Sp...       XB\n",
       "8   (Kinect Adventures!, Grand Theft Auto V, Call ...     X360\n",
       "9   (Mario Kart 8, New Super Mario Bros. U, Super ...     WiiU\n",
       "10  (Minecraft, Uncharted: Golden Abyss, Call of D...      PSV\n",
       "11  (New Super Mario Bros., Nintendogs, Mario Kart...       DS\n",
       "12  (Pac-Man, Pitfall!, Asteroids, Missile Command...     2600\n",
       "13  (Pokemon Red/Pokemon Blue, Tetris, Pokemon Gol...       GB\n",
       "14  (Pokemon Ruby/Pokemon Sapphire, Pokemon FireRe...      GBA\n",
       "15  (Pokemon X/Pokemon Y, Mario Kart 7, Pokemon Om...      3DS\n",
       "16  (Samurai Shodown II, The King of Fighters '95 ...       NG\n",
       "17  (Sonic Adventure, Crazy Taxi, NFL 2K, Shenmue,...       DC\n",
       "18  (Sonic the Hedgehog 2, Sonic the Hedgehog, Mor...      GEN\n",
       "19  (Super Mario 64, Mario Kart 64, GoldenEye 007,...      N64\n",
       "20  (Super Mario Bros., Duck Hunt, Super Mario Bro...      NES\n",
       "21  (Super Mario World, Super Mario All-Stars, Don...     SNES\n",
       "22  (Super Smash Bros. Melee, Mario Kart: Double D...       GC\n",
       "23  (The Sims 3, World of Warcraft, Diablo III, Mi...       PC\n",
       "24  (Virtua Fighter 2, Sega Rally Championship, Vi...      SAT\n",
       "25  (Wii Sports, Mario Kart Wii, Wii Sports Resort...      Wii"
      ]
     },
     "execution_count": 42,
     "metadata": {},
     "output_type": "execute_result"
    }
   ],
   "source": [
    "# Paso 1: crear una nueva columna con el número de plataformas por juego\n",
    "df_plataformas['num_plataformas'] = df_plataformas['juegos'].apply(len)\n",
    "\n",
    "# Paso 2: crear una lista de juegos que aparecen en más de dos plataformas\n",
    "juegos_repetidos = df_plataformas[df_plataformas['num_plataformas'] > 2]['juegos'].explode().value_counts()\n",
    "juegos_repetidos = juegos_repetidos[juegos_repetidos > 1].index.tolist()\n",
    "\n",
    "# Paso 3: crear un nuevo DataFrame con los juegos repetidos\n",
    "df_repetidos = df_plataformas[df_plataformas['juegos'].apply(lambda x: any(item in juegos_repetidos for item in x))]\n",
    "df_repetidos\n",
    "\n",
    "# Paso 4: convertir las listas de juegos a tuplas\n",
    "df_repetidos.loc[:, 'juegos'] = df_repetidos['juegos'].apply(tuple)\n",
    "\n",
    "# Paso 5: agrupar el DataFrame y concatenar las plataformas en una cadena de texto\n",
    "df_agrupado = df_repetidos.groupby('juegos')['platform'].apply(lambda x: ', '.join(x)).reset_index()\n",
    "df_agrupado"
   ]
  },
  {
   "cell_type": "markdown",
   "metadata": {},
   "source": [
    "En la tabla de arriba podemos los diferentes juegos y para que plataforma se encuentran disponibles"
   ]
  },
  {
   "cell_type": "markdown",
   "metadata": {},
   "source": [
    "Ahora vamos a comparar algunos juegos con las plataformas, para ver cuales son las que mas se juegan"
   ]
  },
  {
   "cell_type": "code",
   "execution_count": 43,
   "metadata": {
    "scrolled": false
   },
   "outputs": [
    {
     "data": {
      "image/png": "[encoded data removed]",
      "text/plain": [
       "<Figure size 360x1512 with 7 Axes>"
      ]
     },
     "metadata": {
      "needs_background": "light"
     },
     "output_type": "display_data"
    }
   ],
   "source": [
    "# Definir la lista de nombres de juegos a comparar\n",
    "nombres_juegos = ['Grand Theft Auto V', 'Call of Duty: Black Ops 3', 'Minecraft', 'Halo 2', 'Super Mario Bros.', 'Pitfall!', '007: Quantum of Solace']\n",
    "\n",
    "# Crear una figura con múltiples subplots\n",
    "fig, axs = plt.subplots(len(nombres_juegos), 1, figsize=(5, 3 * len(nombres_juegos)))\n",
    "\n",
    "# Iterar sobre los nombres de juegos y crear un gráfico para cada uno de ellos\n",
    "for i, nombre_juego in enumerate(nombres_juegos):\n",
    "    # Filtrar los datos del juego en cuestión\n",
    "    df_juego = df[df['name'] == nombre_juego]\n",
    "\n",
    "    # Crear un gráfico de barras para comparar las ventas del juego en diferentes plataformas\n",
    "    axs[i].bar(df_juego['platform'], df_juego['total_sales'])\n",
    "    axs[i].set_xlabel('Plataforma')\n",
    "    axs[i].set_ylabel('Ventas Globales (en millones de unidades)')\n",
    "    axs[i].set_title('Ventas Globales de ' + nombre_juego + ' por Plataforma')\n",
    "\n",
    "# Ajustar los subplots para que no se superpongan\n",
    "fig.tight_layout()\n",
    "\n",
    "# Mostrar el gráfico\n",
    "plt.show()\n"
   ]
  },
  {
   "cell_type": "markdown",
   "metadata": {},
   "source": [
    "Podemos ver que los juegos con mas ventas para las diferentes plataformas, varian no hay una plataforma que sea la mas deseada a la hora de comprar un juego, todo depende de la preferencia del jugador por la plataforma y a veces de la disponibilidad del juego para las diferentes plataformas como en el caso del Pitfall! que solo salio para 2600 o el Super Mario Bros. que es de la compañia Nintendo y salio para NES y luego Nintendo lo saco para GB."
   ]
  },
  {
   "cell_type": "markdown",
   "metadata": {},
   "source": [
    "### Distribución de los juegos por género"
   ]
  },
  {
   "cell_type": "markdown",
   "metadata": {},
   "source": [
    "Vamos a crear un grafico que me muestre cuales son los generos mas jugados"
   ]
  },
  {
   "cell_type": "code",
   "execution_count": 44,
   "metadata": {},
   "outputs": [
    {
     "data": {
      "image/png": "[encoded data removed]",
      "text/plain": [
       "<Figure size 504x504 with 1 Axes>"
      ]
     },
     "metadata": {},
     "output_type": "display_data"
    }
   ],
   "source": [
    "df['genre'].value_counts()[:12].plot(kind='pie',autopct='%1.1f%%',shadow=True,explode=[0.1,0,0,0,0,0,0,0,0,0,0,0])\n",
    "plt.title('Distribución de los Generos mas Jugados')\n",
    "fig=plt.gcf()\n",
    "fig.set_size_inches(7,7)\n",
    "plt.show()"
   ]
  },
  {
   "cell_type": "markdown",
   "metadata": {},
   "source": [
    "Podemos ver el genero favorito es el de Acción, seguido por los Deportes y los menos jugados son los Puzzle y de Estrategia"
   ]
  },
  {
   "cell_type": "markdown",
   "metadata": {},
   "source": [
    "Ahora veremos cuales son las plataformas preferidas a la hora de jugar"
   ]
  },
  {
   "cell_type": "code",
   "execution_count": 45,
   "metadata": {},
   "outputs": [
    {
     "data": {
      "text/plain": [
       "Text(0.5, 1.0, 'Ranking de las plataformas para Jugar')"
      ]
     },
     "execution_count": 45,
     "metadata": {},
     "output_type": "execute_result"
    },
    {
     "data": {
      "image/png": "[encoded data removed]",
      "text/plain": [
       "<Figure size 504x504 with 1 Axes>"
      ]
     },
     "metadata": {},
     "output_type": "display_data"
    }
   ],
   "source": [
    "df['platform'].value_counts()[:15].plot.pie(autopct='%1.1f%%',shadow=True,explode=[0.1,0,0,0,0,0,0,0,0,0,0,0,0,0,0])\n",
    "fig=plt.gcf()\n",
    "fig.set_size_inches(7,7)\n",
    "plt.title('Ranking de las plataformas para Jugar')"
   ]
  },
  {
   "cell_type": "markdown",
   "metadata": {},
   "source": [
    "Vemos que las mas elegidas por los jugadores son PS2, seguida de DS, y las menos elegidas son N64 y PS4, pero cuidado PS4 es la ultima plataforma que salio al mercado, es logico que halla menos juegos para esta plataforma y por lo que vimos anteriormente es la unica con ventas en aumentos para el 2015"
   ]
  },
  {
   "cell_type": "markdown",
   "metadata": {},
   "source": [
    "Ahora haremos un grafico de calor que nos muestre que generos son los mas jugados en las 15 plataformas mas jugadas"
   ]
  },
  {
   "cell_type": "code",
   "execution_count": 46,
   "metadata": {},
   "outputs": [
    {
     "data": {
      "image/png": "[encoded data removed]",
      "text/plain": [
       "<Figure size 720x720 with 2 Axes>"
      ]
     },
     "metadata": {
      "needs_background": "light"
     },
     "output_type": "display_data"
    }
   ],
   "source": [
    "# Seleccionar las columnas necesarias\n",
    "plat_genre = df[[\"platform\", \"genre\"]]\n",
    "\n",
    "# Filtrar los géneros más populares\n",
    "pop_genres = df.groupby(\"genre\")[\"total_sales\"].sum().nlargest(12).index\n",
    "plat_genre = plat_genre[plat_genre[\"genre\"].isin(pop_genres)]\n",
    "\n",
    "# Agrupar los datos por plataforma y género\n",
    "plat_genre = plat_genre.groupby([\"platform\", \"genre\"]).size().reset_index(name=\"count\")\n",
    "\n",
    "# Filtrar las combinaciones con una cantidad de juegos menor a 15\n",
    "plat_genre = plat_genre[plat_genre[\"count\"] > 15]\n",
    "\n",
    "# Crear una tabla pivote\n",
    "plat_genre = plat_genre.pivot(index=\"platform\", columns=\"genre\", values=\"count\")\n",
    "\n",
    "# Eliminar las filas con valores nulos\n",
    "plat_genre = plat_genre.dropna(thresh=3)\n",
    "\n",
    "# Crear un mapa de calor\n",
    "sns.heatmap(plat_genre, annot=True, fmt='2.0f', cmap='RdBu_r', linewidths='0.1')\n",
    "fig = plt.gcf()\n",
    "fig.set_size_inches(10, 10)\n",
    "plt.title('Plataformas y Generos Favoritos')\n",
    "plt.show()"
   ]
  },
  {
   "cell_type": "markdown",
   "metadata": {},
   "source": [
    "Vemos nuevamente que los generos favoritos para las diferentes plataformas son en su mayoria Acción y Deporte. Para DS el genero mas jugado es Misc. seguido de Acción, Simulación y Puzzle. \n",
    "\n",
    "Esto tiene que ver tambien porque no todas las plataformas tienen juegos para todos los generos, por ejemplo la WiiU solo tiene juegos de los generos Acción, Misc y Plataforma"
   ]
  },
  {
   "cell_type": "markdown",
   "metadata": {},
   "source": [
    "## Crear un perfil de usuario para cada región"
   ]
  },
  {
   "cell_type": "markdown",
   "metadata": {},
   "source": [
    "Para cada región (NA, UE, JP) vamos a determina:\n",
    "- Las cinco plataformas principales.\n",
    "- Los cinco géneros principales. Explica la diferencia.\n",
    "- Si las clasificaciones de ESRB afectan a las ventas en regiones individuales.\n"
   ]
  },
  {
   "cell_type": "markdown",
   "metadata": {},
   "source": [
    "### Las cinco plataformas principales"
   ]
  },
  {
   "cell_type": "markdown",
   "metadata": {},
   "source": [
    "Creamos las 5 plataformas principales para cada region "
   ]
  },
  {
   "cell_type": "code",
   "execution_count": 47,
   "metadata": {},
   "outputs": [
    {
     "name": "stdout",
     "output_type": "stream",
     "text": [
      "Las cinco plataformas principales en Norteamérica:\n",
      " platform\n",
      "X360    595.74\n",
      "PS2     572.92\n",
      "Wii     486.87\n",
      "PS3     390.13\n",
      "DS      380.31\n",
      "Name: na_sales, dtype: float64\n",
      "Las cinco plataformas principales en Europa:\n",
      " platform\n",
      "PS2     332.63\n",
      "PS3     327.21\n",
      "X360    268.32\n",
      "Wii     258.32\n",
      "PS      212.39\n",
      "Name: eu_sales, dtype: float64\n",
      "Las cinco plataformas principales en Japón:\n",
      " platform\n",
      "DS      175.02\n",
      "PS      139.78\n",
      "PS2     137.54\n",
      "SNES    116.55\n",
      "3DS     100.62\n",
      "Name: jp_sales, dtype: float64\n"
     ]
    }
   ],
   "source": [
    "# Las cinco plataformas principales en Norteamérica\n",
    "na_platforms = df.groupby('platform')['na_sales'].sum().sort_values(ascending=False).head(5)\n",
    "print('Las cinco plataformas principales en Norteamérica:\\n', na_platforms)\n",
    "\n",
    "# Las cinco plataformas principales en Europa\n",
    "eu_platforms = df.groupby('platform')['eu_sales'].sum().sort_values(ascending=False).head(5)\n",
    "print('Las cinco plataformas principales en Europa:\\n', eu_platforms)\n",
    "\n",
    "# Las cinco plataformas principales en Japón\n",
    "jp_platforms = df.groupby('platform')['jp_sales'].sum().sort_values(ascending=False).head(5)\n",
    "print('Las cinco plataformas principales en Japón:\\n', jp_platforms)"
   ]
  },
  {
   "cell_type": "markdown",
   "metadata": {},
   "source": [
    "En Norte America como en Europa se repiten 4 de las 5 principales, mientras que en Japón predominan las plataformas de las compañias japonesas, como ser Sony y Nintendo"
   ]
  },
  {
   "cell_type": "markdown",
   "metadata": {},
   "source": [
    "### Generos principales para cada región"
   ]
  },
  {
   "cell_type": "code",
   "execution_count": 48,
   "metadata": {},
   "outputs": [
    {
     "name": "stdout",
     "output_type": "stream",
     "text": [
      "Las cinco géneros principales en Norteamérica:\n",
      " genre\n",
      "Action      863.17\n",
      "Sports      671.20\n",
      "Shooter     584.83\n",
      "Platform    444.44\n",
      "Misc        399.57\n",
      "Name: na_sales, dtype: float64\n",
      "Las cinco géneros principales en Europa:\n",
      " genre\n",
      "Action     510.99\n",
      "Sports     371.33\n",
      "Shooter    314.52\n",
      "Racing     234.49\n",
      "Misc       210.60\n",
      "Name: eu_sales, dtype: float64\n",
      "Las cinco géneros principales en Japón:\n",
      " genre\n",
      "Role-Playing    353.39\n",
      "Action          160.14\n",
      "Sports          134.93\n",
      "Platform        130.71\n",
      "Misc            107.02\n",
      "Name: jp_sales, dtype: float64\n"
     ]
    }
   ],
   "source": [
    "# Las cinco géneros principales en Norteamérica\n",
    "na_genres = df.groupby('genre')['na_sales'].sum().sort_values(ascending=False).head(5)\n",
    "print('Las cinco géneros principales en Norteamérica:\\n', na_genres)\n",
    "\n",
    "# Las cinco géneros principales en Europa\n",
    "eu_genres = df.groupby('genre')['eu_sales'].sum().sort_values(ascending=False).head(5)\n",
    "print('Las cinco géneros principales en Europa:\\n', eu_genres)\n",
    "\n",
    "# Las cinco géneros principales en Japón\n",
    "jp_genres = df.groupby('genre')['jp_sales'].sum().sort_values(ascending=False).head(5)\n",
    "print('Las cinco géneros principales en Japón:\\n', jp_genres)"
   ]
  },
  {
   "cell_type": "markdown",
   "metadata": {},
   "source": [
    "Vemos nuevamente que 4 de los 5 generos se repiten en Norte America y en Europa, lo que nos indica que los jugadores de ambas regiones son parecidos a la hora de elegir un juego por su genero, mientras que en Japon el publico prefiere en primer lugar los juegos de rol superando casi por el doble al resto de los otros 4 generos mas jugados, que son los mismos que para Norte America y Europa"
   ]
  },
  {
   "cell_type": "markdown",
   "metadata": {},
   "source": [
    "### Clasificacion de los juegos ESRB"
   ]
  },
  {
   "cell_type": "code",
   "execution_count": 49,
   "metadata": {},
   "outputs": [
    {
     "name": "stdout",
     "output_type": "stream",
     "text": [
      "Clasificaciones ESRB en Norteamérica:\n",
      " rating\n",
      "E       1501.05\n",
      "M        979.43\n",
      "T        868.10\n",
      "E10+     712.70\n",
      "RP       181.06\n",
      "EC        95.26\n",
      "K-A        2.56\n",
      "AO         1.26\n",
      "Name: na_sales, dtype: float64\n",
      "Clasificaciones ESRB en Europa:\n",
      " rating\n",
      "E       847.26\n",
      "M       595.60\n",
      "T       466.30\n",
      "E10+    353.93\n",
      "RP      102.21\n",
      "EC       33.50\n",
      "AO        0.61\n",
      "K-A       0.27\n",
      "Name: eu_sales, dtype: float64\n",
      "Clasificaciones ESRB en Japón:\n",
      " rating\n",
      "E10+    398.35\n",
      "E       323.90\n",
      "M       179.00\n",
      "T       170.29\n",
      "RP      132.01\n",
      "EC       85.63\n",
      "K-A       1.46\n",
      "AO        0.00\n",
      "Name: jp_sales, dtype: float64\n"
     ]
    }
   ],
   "source": [
    "# Clasificaciones ESRB en Norteamérica\n",
    "na_ratings = df.groupby('rating')['na_sales'].sum().sort_values(ascending=False)\n",
    "print('Clasificaciones ESRB en Norteamérica:\\n', na_ratings)\n",
    "\n",
    "# Clasificaciones ESRB en Europa\n",
    "eu_ratings = df.groupby('rating')['eu_sales'].sum().sort_values(ascending=False)\n",
    "print('Clasificaciones ESRB en Europa:\\n', eu_ratings)\n",
    "\n",
    "# Clasificaciones ESRB en Japón\n",
    "jp_ratings = df.groupby('rating')['jp_sales'].sum().sort_values(ascending=False)\n",
    "print('Clasificaciones ESRB en Japón:\\n', jp_ratings)"
   ]
  },
  {
   "cell_type": "markdown",
   "metadata": {},
   "source": [
    "Las 5 clasificaciones ESRB en las 3 regiones son las mismas, en Norte America como en Europa se repiten exactamente las mismas, pero en Japon lidera los juegos para mayores de 10 años, esto nos puedo indicar que en Japon la mayoria del publico que juega son niños de 10 años en adelante o que el publico en general prefiere estos juegos."
   ]
  },
  {
   "cell_type": "markdown",
   "metadata": {},
   "source": [
    "## Hipotesis"
   ]
  },
  {
   "cell_type": "markdown",
   "metadata": {},
   "source": [
    "Vamos a poner a prueba las siguientes hipótesis para los años 2010 al 2016:\n",
    "- Las calificaciones promedio de los usuarios para las plataformas Xbox One y PC son las mismas.\n",
    "- Las calificaciones promedio de los usuarios para los géneros de Acción y Deportes son iguales."
   ]
  },
  {
   "cell_type": "markdown",
   "metadata": {},
   "source": [
    "### Primera hipotesis"
   ]
  },
  {
   "cell_type": "markdown",
   "metadata": {},
   "source": [
    "Hipotesis Nula: Las calificaciones promedio de los usuarios para las plataformas Xbox One y PC son las mismas.\n",
    "\n",
    "Hipotesis Alternativa: Las calificaciones promedio de los usuarios para las plataformas Xbox One y PC son distintas."
   ]
  },
  {
   "cell_type": "code",
   "execution_count": 50,
   "metadata": {},
   "outputs": [
    {
     "name": "stdout",
     "output_type": "stream",
     "text": [
      "Media de calificaciones de usuario para Xbox One: 6.521428571428572\n",
      "Desviación estándar de calificaciones de usuario para Xbox One: 1.380940564592144\n",
      "Media de calificaciones de usuario para PC: 6.5181818181818185\n",
      "Desviación estándar de calificaciones de usuario para PC: 1.5653900520671817\n",
      "Las varianzas son diferentes (rechazamos la hipótesis nula de Levene)\n",
      "Valor p de Levene: 0.033971871409421345\n",
      "No podemos rechazar la hipótesis nula\n",
      "Valor p: 0.9801634129117883\n"
     ]
    }
   ],
   "source": [
    "# Filtro de datos para Xbox One y PC en los años 2010 a 2016\n",
    "xbox_scores = df[(df['platform'] == 'XOne') & (df['year_of_release'] >= 2010) & (df['year_of_release'] <= 2016)]['user_score'].dropna()\n",
    "pc_scores = df[(df['platform'] == 'PC') & (df['year_of_release'] >= 2010) & (df['year_of_release'] <= 2016)]['user_score'].dropna()\n",
    "\n",
    "# Calculo de las medias y desvio estandar para Xbox y PC\n",
    "xbox_mean = np.mean(xbox_scores)\n",
    "pc_mean = np.mean(pc_scores)\n",
    "\n",
    "xbox_std = np.std(xbox_scores, ddof=1)\n",
    "pc_std = np.std(pc_scores, ddof=1)\n",
    "\n",
    "print(\"Media de calificaciones de usuario para Xbox One:\", xbox_mean)\n",
    "print(\"Desviación estándar de calificaciones de usuario para Xbox One:\", xbox_std)\n",
    "print(\"Media de calificaciones de usuario para PC:\", pc_mean)\n",
    "print(\"Desviación estándar de calificaciones de usuario para PC:\", pc_std)\n",
    "\n",
    "# Usamos un nivel de significancia del 5%\n",
    "alpha = 0.05\n",
    "\n",
    "\n",
    "\n",
    "# Aplicar la prueba de Levene\n",
    "test_result = levene(xbox_scores, pc_scores)\n",
    "\n",
    "# Obtener el valor p de la prueba\n",
    "p_value = test_result.pvalue\n",
    "\n",
    "# Imprimir los resultados\n",
    "if p_value < alpha:\n",
    "    print(\"Las varianzas son diferentes (rechazamos la hipótesis nula de Levene)\")\n",
    "else:\n",
    "    print(\"Las varianzas son iguales (no podemos rechazar la hipótesis nula de Levene)\")\n",
    "\n",
    "print(\"Valor p de Levene:\", p_value)\n",
    "\n",
    "\n",
    "\n",
    "# Prueba t-Student\n",
    "test_result = ttest_ind(xbox_scores, pc_scores, equal_var=False)\n",
    "p_value = test_result.pvalue\n",
    "\n",
    "if p_value < alpha:\n",
    "    print(\"Rechazamos la hipótesis nula\")\n",
    "else:\n",
    "    print(\"No podemos rechazar la hipótesis nula\")\n",
    "\n",
    "print(\"Valor p:\", p_value)"
   ]
  },
  {
   "cell_type": "markdown",
   "metadata": {},
   "source": [
    "No existe evidencia suficiente para rechazar la Hipotesis Nula, las clasificaciones promedio para Xbox One y PC son iguales"
   ]
  },
  {
   "cell_type": "markdown",
   "metadata": {},
   "source": [
    "### Segunda Hipotesis"
   ]
  },
  {
   "cell_type": "markdown",
   "metadata": {},
   "source": [
    "Hipotesis Nula: Las calificaciones promedio de los usuarios para los géneros de Acción y Deportes son iguales.\n",
    "\n",
    "Hipotesis Alternativa: Las calificaciones promedio de los usuarios para los géneros de Acción y Deportes son diferentes."
   ]
  },
  {
   "cell_type": "code",
   "execution_count": 51,
   "metadata": {},
   "outputs": [
    {
     "name": "stdout",
     "output_type": "stream",
     "text": [
      "Media de calificaciones de usuario para el género de Acción: 6.781899871630296\n",
      "Desviación estándar de calificaciones de usuario para el género de Acción: 1.3602012875529312\n",
      "Media de calificaciones de usuario para el género de Deportes: 5.901587301587302\n",
      "Desviación estándar de calificaciones de usuario para el género de Deportes: 1.6839342074810588\n",
      "Las varianzas son diferentes (rechazamos la hipótesis nula de Levene)\n",
      "Valor p de Levene: 1.3235677783725728e-05\n",
      "Rechazamos la hipótesis nula\n",
      "Valor p: 1.4516152467844418e-15\n"
     ]
    }
   ],
   "source": [
    "# Filtro de datos para Acción y Deportes en los años 2010 a 2016\n",
    "action_scores = df[(df['genre'] == 'Action') & (df['year_of_release'] >= 2010) & (df['year_of_release'] <= 2016)]['user_score'].dropna()\n",
    "sport_scores = df[(df['genre'] == 'Sports') & (df['year_of_release'] >= 2010) & (df['year_of_release'] <= 2016)]['user_score'].dropna()\n",
    "\n",
    "# Calculo de las medias y desvio estandar para Acción y Deportes\n",
    "action_mean = np.mean(action_scores)\n",
    "sport_mean = np.mean(sport_scores)\n",
    "\n",
    "action_std = np.std(action_scores, ddof=1)\n",
    "sport_std = np.std(sport_scores, ddof=1)\n",
    "\n",
    "print(\"Media de calificaciones de usuario para el género de Acción:\", action_mean)\n",
    "print(\"Desviación estándar de calificaciones de usuario para el género de Acción:\", action_std)\n",
    "print(\"Media de calificaciones de usuario para el género de Deportes:\", sport_mean)\n",
    "print(\"Desviación estándar de calificaciones de usuario para el género de Deportes:\", sport_std)\n",
    "\n",
    "# Usamos un nivel de significancia del 5%\n",
    "alpha = 0.05\n",
    "\n",
    "\n",
    "\n",
    "# Aplicar la prueba de Levene\n",
    "test_result = levene(action_scores, sport_scores)\n",
    "\n",
    "# Obtener el valor p de la prueba\n",
    "p_value = test_result.pvalue\n",
    "\n",
    "# Imprimir los resultados\n",
    "if p_value < alpha:\n",
    "    print(\"Las varianzas son diferentes (rechazamos la hipótesis nula de Levene)\")\n",
    "else:\n",
    "    print(\"Las varianzas son iguales (no podemos rechazar la hipótesis nula de Levene)\")\n",
    "\n",
    "print(\"Valor p de Levene:\", p_value)\n",
    "\n",
    "\n",
    "\n",
    "# Prueba t-Student\n",
    "test_result = ttest_ind(action_scores, sport_scores, equal_var=False)\n",
    "p_value = test_result.pvalue\n",
    "\n",
    "if p_value < alpha:\n",
    "    print(\"Rechazamos la hipótesis nula\")\n",
    "else:\n",
    "    print(\"No podemos rechazar la hipótesis nula\")\n",
    "\n",
    "print(\"Valor p:\", p_value)\n"
   ]
  },
  {
   "cell_type": "markdown",
   "metadata": {},
   "source": [
    "Existe evidencia suficiente para rechazar la hipotesis nula, por lo que el promedio de los usuarios de los generos Acción y Deporte no son los mismos"
   ]
  },
  {
   "cell_type": "markdown",
   "metadata": {},
   "source": [
    "## Conclusión General"
   ]
  },
  {
   "cell_type": "markdown",
   "metadata": {},
   "source": [
    "La industria de los videojuegos es una industria en ascenso, esto lo podemos apreciar gracias a las primeras plataformas que salieron por la decada del ´80 y como fueron aumentando las ventas de los videojuegos al igual que los diferentes generos y plataformas en donde jugarlos.\n",
    "A medida que las tecnologias visuales se volvieron mas complejas al igual que el procesamiento de los datos, las plataformas evolucionaron rapidamente para competir entre ellas para darles diferentes experiencias a los usuarios, desde ser moviles como el GameBoy y la PSP, hasta ser inmersivos como la Wii y la WiiU.\n",
    "\n",
    "Las 3 compañias mas grandes de video juegos estan representadas con sus plataformas de juegos dentro del Top de Plataformas, Nintendo con la DS y Wii, Sony con PS2 y Microsoft con X360, la popularidad de estas plataformas se deben algran abanico de juegos que poseen que a su vez pueden ser jugados en cada uno de estos dipositivos como por ejemplo el juego 007: Quantum of Solace. \n",
    "\n",
    "La plataforma que menos se usa dentro del Top, es la PC, esto se puede deber que las PC no solo ses usan para jugar, sino tambien para trabajar y mientras que los juegos que salen están adaptados para la plataforma que se juegue en la PC a veces se necesitan las ultimas genereaciones de componentes de video y de memoria para poder correr el juego correctamente lo que es un limitante para muchos usuarios a la hora de jugar.\n",
    " \n",
    "Los generos de juegos principales fueron Acción y Deporte en las regiones de Norte America y Europa al igual que las clasificaiones ESRB fueron las mismas en ambas regiones. El mercado Japones es diferente al occidental, los japoneses prefieren otros tipos de plataformas como DS, PS y PS2, el genero que mas juegan es el de Role-Playing y la clasificacion con mas ventas fue E10+, esto puede ser porque los que juegan mas son los niños de 10 años en adelantes o porque estos tipos de juegos son los que mas gustan por su cultura."
   ]
  },
  {
   "cell_type": "markdown",
   "metadata": {},
   "source": [
    "## Recomendaciones para la Tienda Online Ice"
   ]
  },
  {
   "cell_type": "markdown",
   "metadata": {},
   "source": [
    "Se recomienda para el marketing del siguiente año: \n",
    "- Hacer hincapie en los juegos de Acción y Deporte para las regiones de Norte America y Europa y los juegos de rol para Japon.\n",
    "- Las consulas con mas ventas son PS2, DS, PS3, Wii y X360, pero la unica consola que termino el año 2016 con un aumento de ventas fue PS4, esto quiere decir que en el 2017 va ser importante hacer publicidad en la venta de esta plataforma y en sus juegos que van de la mano.\n",
    "- Las clasificaciones para x360 y PC son diferentes ver bien cual es son las clasificaciones que mas se venden en cada plataforma para saber orientar las ventas de los videojuegos para estas consolas.\n",
    "- Las recomendaciones de los expertos y la de los usuariarios si bien son parecidas no son las mismas, el usuario es mas exigente a la hora de poner un puntaje al videojuego, por lo que hay  que tenerlos mas en cuenta a la hora de las ventas, esto lo vemos porque casi no se ven juegos con puntaje 10 por los usuarios  que el mayor puntaje ronda entre 8 y 8.5 pero si en los experto que hay mas juegos con puntajes de 9 o mayor. "
   ]
  }
 ],
 "metadata": {
  "kernelspec": {
   "display_name": "Python 3 (ipykernel)",
   "language": "python",
   "name": "python3"
  },
  "language_info": {
   "codemirror_mode": {
    "name": "ipython",
    "version": 3
   },
   "file_extension": ".py",
   "mimetype": "text/x-python",
   "name": "python",
   "nbconvert_exporter": "python",
   "pygments_lexer": "ipython3",
   "version": "3.9.13"
  },
  "toc": {
   "base_numbering": 1,
   "nav_menu": {},
   "number_sections": true,
   "sideBar": true,
   "skip_h1_title": true,
   "title_cell": "Table of Contents",
   "title_sidebar": "Contents",
   "toc_cell": false,
   "toc_position": {
    "height": "calc(100% - 180px)",
    "left": "10px",
    "top": "150px",
    "width": "243.865px"
   },
   "toc_section_display": true,
   "toc_window_display": false
  }
 },
 "nbformat": 4,
 "nbformat_minor": 2
}
